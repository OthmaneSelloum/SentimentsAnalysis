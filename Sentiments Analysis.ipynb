{
 "cells": [
  {
   "metadata": {},
   "cell_type": "markdown",
   "source": [
    "### **Model Training Report**\n",
    "\n",
    "In this project, we trained two models, a Convolutional Neural Network (CNN) and a Long Short-Term Memory (LSTM) network, on our dataset to perform sentiment analysis."
   ],
   "id": "c4f4d01e89104e49"
  },
  {
   "metadata": {},
   "cell_type": "code",
   "outputs": [],
   "execution_count": 121,
   "source": [
    "import matplotlib.pyplot as plt\n",
    "import pandas as pd\n",
    "import numpy as np\n",
    "import seaborn as sns\n",
    "import re\n",
    "import nltk\n",
    "from nltk.corpus import stopwords\n",
    "from sklearn.model_selection import train_test_split\n",
    "from tensorflow.keras.preprocessing.text import Tokenizer\n",
    "from tf_keras.src.utils import pad_sequences\n",
    "import matplotlib.pyplot as plt\n"
   ],
   "id": "initial_id"
  },
  {
   "metadata": {},
   "cell_type": "markdown",
   "source": "# Read Dataset",
   "id": "f484f9f96d5452b"
  },
  {
   "metadata": {
    "ExecuteTime": {
     "end_time": "2024-12-02T15:42:35.456309Z",
     "start_time": "2024-12-02T15:42:34.705134Z"
    }
   },
   "cell_type": "code",
   "source": "data=pd.read_csv('C:\\\\Users\\Othmane\\Desktop\\BDSaS S3\\Sentiments Analysis\\SentimentsAnalysis\\data\\IMDB Dataset.csv')",
   "id": "a092b7e5dc861e2a",
   "outputs": [],
   "execution_count": 11
  },
  {
   "metadata": {},
   "cell_type": "markdown",
   "source": "",
   "id": "5981fa86a8a31974"
  },
  {
   "metadata": {
    "ExecuteTime": {
     "end_time": "2024-12-02T15:42:40.499044Z",
     "start_time": "2024-12-02T15:42:40.473689Z"
    }
   },
   "cell_type": "code",
   "source": "data.head()",
   "id": "7098baa899c61ba5",
   "outputs": [
    {
     "data": {
      "text/plain": [
       "                                              review sentiment\n",
       "0  One of the other reviewers has mentioned that ...  positive\n",
       "1  A wonderful little production. <br /><br />The...  positive\n",
       "2  I thought this was a wonderful way to spend ti...  positive\n",
       "3  Basically there's a family where a little boy ...  negative\n",
       "4  Petter Mattei's \"Love in the Time of Money\" is...  positive"
      ],
      "text/html": [
       "<div>\n",
       "<style scoped>\n",
       "    .dataframe tbody tr th:only-of-type {\n",
       "        vertical-align: middle;\n",
       "    }\n",
       "\n",
       "    .dataframe tbody tr th {\n",
       "        vertical-align: top;\n",
       "    }\n",
       "\n",
       "    .dataframe thead th {\n",
       "        text-align: right;\n",
       "    }\n",
       "</style>\n",
       "<table border=\"1\" class=\"dataframe\">\n",
       "  <thead>\n",
       "    <tr style=\"text-align: right;\">\n",
       "      <th></th>\n",
       "      <th>review</th>\n",
       "      <th>sentiment</th>\n",
       "    </tr>\n",
       "  </thead>\n",
       "  <tbody>\n",
       "    <tr>\n",
       "      <th>0</th>\n",
       "      <td>One of the other reviewers has mentioned that ...</td>\n",
       "      <td>positive</td>\n",
       "    </tr>\n",
       "    <tr>\n",
       "      <th>1</th>\n",
       "      <td>A wonderful little production. &lt;br /&gt;&lt;br /&gt;The...</td>\n",
       "      <td>positive</td>\n",
       "    </tr>\n",
       "    <tr>\n",
       "      <th>2</th>\n",
       "      <td>I thought this was a wonderful way to spend ti...</td>\n",
       "      <td>positive</td>\n",
       "    </tr>\n",
       "    <tr>\n",
       "      <th>3</th>\n",
       "      <td>Basically there's a family where a little boy ...</td>\n",
       "      <td>negative</td>\n",
       "    </tr>\n",
       "    <tr>\n",
       "      <th>4</th>\n",
       "      <td>Petter Mattei's \"Love in the Time of Money\" is...</td>\n",
       "      <td>positive</td>\n",
       "    </tr>\n",
       "  </tbody>\n",
       "</table>\n",
       "</div>"
      ]
     },
     "execution_count": 12,
     "metadata": {},
     "output_type": "execute_result"
    }
   ],
   "execution_count": 12
  },
  {
   "metadata": {
    "ExecuteTime": {
     "end_time": "2024-12-02T15:43:20.619701Z",
     "start_time": "2024-12-02T15:43:20.612747Z"
    }
   },
   "cell_type": "code",
   "source": "data.shape",
   "id": "bdba44847476aacd",
   "outputs": [
    {
     "data": {
      "text/plain": [
       "(50000, 2)"
      ]
     },
     "execution_count": 13,
     "metadata": {},
     "output_type": "execute_result"
    }
   ],
   "execution_count": 13
  },
  {
   "metadata": {
    "ExecuteTime": {
     "end_time": "2024-12-02T15:43:33.575166Z",
     "start_time": "2024-12-02T15:43:33.555034Z"
    }
   },
   "cell_type": "code",
   "source": "data.isnull().sum()",
   "id": "7151cd5988088217",
   "outputs": [
    {
     "data": {
      "text/plain": [
       "review       0\n",
       "sentiment    0\n",
       "dtype: int64"
      ]
     },
     "execution_count": 15,
     "metadata": {},
     "output_type": "execute_result"
    }
   ],
   "execution_count": 15
  },
  {
   "metadata": {
    "ExecuteTime": {
     "end_time": "2024-12-02T15:45:42.991121Z",
     "start_time": "2024-12-02T15:45:42.825192Z"
    }
   },
   "cell_type": "code",
   "source": "sns.countplot(data=data, x='sentiment')",
   "id": "61a3226c73b63bd4",
   "outputs": [
    {
     "data": {
      "text/plain": [
       "<Axes: xlabel='sentiment', ylabel='count'>"
      ]
     },
     "execution_count": 22,
     "metadata": {},
     "output_type": "execute_result"
    },
    {
     "data": {
      "text/plain": [
       "<Figure size 640x480 with 1 Axes>"
      ],
      "image/png": "[encoded data removed]"
     },
     "metadata": {},
     "output_type": "display_data"
    }
   ],
   "execution_count": 22
  },
  {
   "metadata": {},
   "cell_type": "markdown",
   "source": "# Data Preprocessing",
   "id": "450b7e70a625d834"
  },
  {
   "metadata": {},
   "cell_type": "markdown",
   "source": "### Remove tags from text , punctuations ,numbers,multiple spaces , character removal and Stopwords",
   "id": "dabadf2122e7faf9"
  },
  {
   "metadata": {
    "ExecuteTime": {
     "end_time": "2024-12-02T16:03:56.115788Z",
     "start_time": "2024-12-02T16:03:56.108592Z"
    }
   },
   "cell_type": "code",
   "source": [
    "Tag_re=re.compile(r'<[^>]+>')\n",
    "def Removetags(text): \n",
    "    return Tag_re.sub('',text)"
   ],
   "id": "396e4f608ba4fb94",
   "outputs": [],
   "execution_count": 27
  },
  {
   "metadata": {
    "ExecuteTime": {
     "end_time": "2024-12-02T16:02:41.569739Z",
     "start_time": "2024-12-02T16:02:40.836775Z"
    }
   },
   "cell_type": "code",
   "source": "nltk.download('stopwords')",
   "id": "4d2df0d62401673b",
   "outputs": [
    {
     "name": "stderr",
     "output_type": "stream",
     "text": [
      "[nltk_data] Downloading package stopwords to\n",
      "[nltk_data]     C:\\Users\\Othmane\\AppData\\Roaming\\nltk_data...\n",
      "[nltk_data]   Unzipping corpora\\stopwords.zip.\n"
     ]
    },
    {
     "data": {
      "text/plain": [
       "True"
      ]
     },
     "execution_count": 26,
     "metadata": {},
     "output_type": "execute_result"
    }
   ],
   "execution_count": 26
  },
  {
   "metadata": {
    "ExecuteTime": {
     "end_time": "2024-12-02T16:14:27.465791Z",
     "start_time": "2024-12-02T16:14:27.458796Z"
    }
   },
   "cell_type": "code",
   "source": [
    "\n",
    "def preprocess(text): \n",
    "    sentence=text.lower()\n",
    "    # Remove tags\n",
    "    sentence=Removetags(sentence)\n",
    "    # Remove Punctiations and numbers\n",
    "    sentence=re.sub('[^a-zA-Z]', ' ', sentence)\n",
    "    # Remove Single Character\n",
    "    sentence=re.sub(r'\\s+[a-zA-Z]\\s+', ' ', sentence)\n",
    "    # Remove Multiple Spaces\n",
    "    sentence=re.sub(r'\\s+', ' ', sentence)\n",
    "    # Remove StopWords\n",
    "    sentence=re.compile(r'\\b('+r'|'.join(stopwords.words('english'))+r')\\b\\s*').sub('',sentence)\n",
    "    return sentence\n",
    "    "
   ],
   "id": "5845e88d033e13bc",
   "outputs": [],
   "execution_count": 29
  },
  {
   "metadata": {},
   "cell_type": "markdown",
   "source": "### Preprocessing the reviews",
   "id": "247ba69d8610ae91"
  },
  {
   "metadata": {
    "ExecuteTime": {
     "end_time": "2024-12-02T16:19:49.400227Z",
     "start_time": "2024-12-02T16:19:12.475716Z"
    }
   },
   "cell_type": "code",
   "source": [
    "x=[]\n",
    "Sentences=list(data['review'])\n",
    "for sentence in Sentences:\n",
    "    x.append(preprocess(sentence))"
   ],
   "id": "57b1b8441d7d0fd2",
   "outputs": [],
   "execution_count": 32
  },
  {
   "metadata": {
    "ExecuteTime": {
     "end_time": "2024-12-02T16:20:24.151793Z",
     "start_time": "2024-12-02T16:20:24.145008Z"
    }
   },
   "cell_type": "code",
   "source": "x[1]",
   "id": "e5a80f8a80ef5ed1",
   "outputs": [
    {
     "data": {
      "text/plain": [
       "'wonderful little production filming technique unassuming old time bbc fashion gives comforting sometimes discomforting sense realism entire piece actors extremely well chosen michael sheen got polari voices pat truly see seamless editing guided references williams diary entries well worth watching terrificly written performed piece masterful production one great master comedy life realism really comes home little things fantasy guard rather use traditional dream techniques remains solid disappears plays knowledge senses particularly scenes concerning orton halliwell sets particularly flat halliwell murals decorating every surface terribly well done '"
      ]
     },
     "execution_count": 35,
     "metadata": {},
     "output_type": "execute_result"
    }
   ],
   "execution_count": 35
  },
  {
   "metadata": {},
   "cell_type": "markdown",
   "source": "### Preprocessing the Sentiments",
   "id": "ad52674673fc60fe"
  },
  {
   "metadata": {
    "ExecuteTime": {
     "end_time": "2024-12-02T16:29:56.831711Z",
     "start_time": "2024-12-02T16:29:56.811010Z"
    }
   },
   "cell_type": "code",
   "source": [
    "\n",
    "y=np.array(list(map(lambda x:1 if x=='positive' else 0,data['sentiment'])))"
   ],
   "id": "f30b9b553207ad5",
   "outputs": [],
   "execution_count": 38
  },
  {
   "metadata": {
    "ExecuteTime": {
     "end_time": "2024-12-02T16:29:58.207773Z",
     "start_time": "2024-12-02T16:29:58.200997Z"
    }
   },
   "cell_type": "code",
   "source": "y",
   "id": "761f6b7c6afbe01d",
   "outputs": [
    {
     "data": {
      "text/plain": [
       "array([1, 1, 1, ..., 0, 0, 0])"
      ]
     },
     "execution_count": 39,
     "metadata": {},
     "output_type": "execute_result"
    }
   ],
   "execution_count": 39
  },
  {
   "metadata": {
    "ExecuteTime": {
     "end_time": "2024-12-02T16:35:39.598108Z",
     "start_time": "2024-12-02T16:35:39.571469Z"
    }
   },
   "cell_type": "code",
   "source": "X_train, X_test, y_train, y_test = train_test_split(x,y,test_size=0.2, random_state=42)",
   "id": "65ec2a61ace495a8",
   "outputs": [],
   "execution_count": 41
  },
  {
   "metadata": {
    "ExecuteTime": {
     "end_time": "2024-12-02T16:35:45.931696Z",
     "start_time": "2024-12-02T16:35:45.923574Z"
    }
   },
   "cell_type": "code",
   "source": "X_train[1]",
   "id": "45e9aef50ed04e15",
   "outputs": [
    {
     "data": {
      "text/plain": [
       "'watch entire movie could watch entire movie stopped dvd watching half hour suggest anyone thinking watching stop taking disc case like mafia movies tragic comic corky romano described tragic attempt mafia comedy problem corky romano simply tries hard get audience laugh plot seems excuse moving chris kattan corky one scene another corky completely overplayed lacks subtlety credulity strange mannerisms come across contrived chris kattan clearly acting rather taking role bounces right story scene utterly predictable comedic event occur set obvious soon scene introduced comedies mr bean disasters caused title character funny empathise characters motivations initial event situation character ends telegraphed corky however gives feeling deliberately screwing desperate attempt draw laugh audience chris played alien character never really connects characters movie whose behaviour entirely inexplicable except trying draw laughs comedy scenes predictable stereotyped jokes seemed far familiar movie could watchable watch '"
      ]
     },
     "execution_count": 42,
     "metadata": {},
     "output_type": "execute_result"
    }
   ],
   "execution_count": 42
  },
  {
   "metadata": {
    "ExecuteTime": {
     "end_time": "2024-12-02T16:35:59.855452Z",
     "start_time": "2024-12-02T16:35:59.847288Z"
    }
   },
   "cell_type": "code",
   "source": "y_train[1]",
   "id": "a633d3cbec991929",
   "outputs": [
    {
     "data": {
      "text/plain": [
       "0"
      ]
     },
     "execution_count": 43,
     "metadata": {},
     "output_type": "execute_result"
    }
   ],
   "execution_count": 43
  },
  {
   "metadata": {},
   "cell_type": "code",
   "outputs": [],
   "execution_count": null,
   "source": "",
   "id": "7249a4832705e8b8"
  },
  {
   "metadata": {},
   "cell_type": "markdown",
   "source": "# Tokenization of X_train and X_test",
   "id": "e5006be6b5f29c4b"
  },
  {
   "metadata": {
    "ExecuteTime": {
     "end_time": "2024-12-02T16:44:12.059639Z",
     "start_time": "2024-12-02T16:44:07.726365Z"
    }
   },
   "cell_type": "code",
   "source": [
    "word_tokenizer=Tokenizer()\n",
    "word_tokenizer.fit_on_texts(X_train)"
   ],
   "id": "13f381dbda3d2e49",
   "outputs": [],
   "execution_count": 45
  },
  {
   "metadata": {
    "ExecuteTime": {
     "end_time": "2024-12-02T16:44:44.193421Z",
     "start_time": "2024-12-02T16:44:40.328139Z"
    }
   },
   "cell_type": "code",
   "source": [
    "X_train=word_tokenizer.texts_to_sequences(X_train)\n",
    "X_test=word_tokenizer.texts_to_sequences(X_test)"
   ],
   "id": "e9b1f15743c003d5",
   "outputs": [],
   "execution_count": 46
  },
  {
   "metadata": {
    "ExecuteTime": {
     "end_time": "2024-12-02T16:45:42.464859Z",
     "start_time": "2024-12-02T16:45:42.452806Z"
    }
   },
   "cell_type": "code",
   "source": "X_train[1]",
   "id": "fd99f8466ba14242",
   "outputs": [
    {
     "data": {
      "text/plain": [
       "[27,\n",
       " 317,\n",
       " 1,\n",
       " 22,\n",
       " 27,\n",
       " 317,\n",
       " 1,\n",
       " 2116,\n",
       " 148,\n",
       " 54,\n",
       " 188,\n",
       " 395,\n",
       " 1293,\n",
       " 136,\n",
       " 404,\n",
       " 54,\n",
       " 406,\n",
       " 506,\n",
       " 3453,\n",
       " 290,\n",
       " 4,\n",
       " 3748,\n",
       " 24,\n",
       " 1480,\n",
       " 611,\n",
       " 11609,\n",
       " 13005,\n",
       " 1943,\n",
       " 1480,\n",
       " 461,\n",
       " 3748,\n",
       " 101,\n",
       " 320,\n",
       " 11609,\n",
       " 13005,\n",
       " 217,\n",
       " 377,\n",
       " 137,\n",
       " 15,\n",
       " 185,\n",
       " 299,\n",
       " 33,\n",
       " 83,\n",
       " 1216,\n",
       " 569,\n",
       " 1130,\n",
       " 15681,\n",
       " 11609,\n",
       " 3,\n",
       " 46,\n",
       " 62,\n",
       " 11609,\n",
       " 219,\n",
       " 11815,\n",
       " 1343,\n",
       " 3943,\n",
       " 17437,\n",
       " 533,\n",
       " 6265,\n",
       " 107,\n",
       " 484,\n",
       " 1919,\n",
       " 1130,\n",
       " 15681,\n",
       " 562,\n",
       " 37,\n",
       " 140,\n",
       " 506,\n",
       " 110,\n",
       " 13301,\n",
       " 98,\n",
       " 9,\n",
       " 46,\n",
       " 1146,\n",
       " 574,\n",
       " 1527,\n",
       " 1426,\n",
       " 3571,\n",
       " 153,\n",
       " 446,\n",
       " 399,\n",
       " 46,\n",
       " 1547,\n",
       " 1200,\n",
       " 318,\n",
       " 4471,\n",
       " 8852,\n",
       " 1946,\n",
       " 294,\n",
       " 28,\n",
       " 60,\n",
       " 19950,\n",
       " 26,\n",
       " 4554,\n",
       " 2370,\n",
       " 1426,\n",
       " 734,\n",
       " 28,\n",
       " 514,\n",
       " 13924,\n",
       " 11609,\n",
       " 88,\n",
       " 286,\n",
       " 423,\n",
       " 4200,\n",
       " 11393,\n",
       " 1673,\n",
       " 461,\n",
       " 2270,\n",
       " 299,\n",
       " 185,\n",
       " 1130,\n",
       " 143,\n",
       " 936,\n",
       " 28,\n",
       " 34,\n",
       " 10,\n",
       " 10489,\n",
       " 26,\n",
       " 1,\n",
       " 503,\n",
       " 4666,\n",
       " 949,\n",
       " 6602,\n",
       " 418,\n",
       " 150,\n",
       " 2270,\n",
       " 767,\n",
       " 101,\n",
       " 49,\n",
       " 574,\n",
       " 7018,\n",
       " 479,\n",
       " 334,\n",
       " 116,\n",
       " 919,\n",
       " 1,\n",
       " 22,\n",
       " 1545,\n",
       " 27]"
      ]
     },
     "execution_count": 48,
     "metadata": {},
     "output_type": "execute_result"
    }
   ],
   "execution_count": 48
  },
  {
   "metadata": {
    "ExecuteTime": {
     "end_time": "2024-12-02T17:08:01.335210Z",
     "start_time": "2024-12-02T17:08:01.307714Z"
    }
   },
   "cell_type": "code",
   "source": "word_tokenizer.word_index",
   "id": "43f21b1a1d79826b",
   "outputs": [
    {
     "data": {
      "text/plain": [
       "{'movie': 1,\n",
       " 'film': 2,\n",
       " 'one': 3,\n",
       " 'like': 4,\n",
       " 'good': 5,\n",
       " 'time': 6,\n",
       " 'even': 7,\n",
       " 'would': 8,\n",
       " 'story': 9,\n",
       " 'really': 10,\n",
       " 'see': 11,\n",
       " 'well': 12,\n",
       " 'much': 13,\n",
       " 'bad': 14,\n",
       " 'get': 15,\n",
       " 'people': 16,\n",
       " 'great': 17,\n",
       " 'also': 18,\n",
       " 'first': 19,\n",
       " 'made': 20,\n",
       " 'make': 21,\n",
       " 'could': 22,\n",
       " 'way': 23,\n",
       " 'movies': 24,\n",
       " 'think': 25,\n",
       " 'characters': 26,\n",
       " 'watch': 27,\n",
       " 'character': 28,\n",
       " 'films': 29,\n",
       " 'seen': 30,\n",
       " 'two': 31,\n",
       " 'many': 32,\n",
       " 'plot': 33,\n",
       " 'never': 34,\n",
       " 'love': 35,\n",
       " 'life': 36,\n",
       " 'acting': 37,\n",
       " 'best': 38,\n",
       " 'know': 39,\n",
       " 'show': 40,\n",
       " 'little': 41,\n",
       " 'ever': 42,\n",
       " 'man': 43,\n",
       " 'better': 44,\n",
       " 'end': 45,\n",
       " 'scene': 46,\n",
       " 'still': 47,\n",
       " 'say': 48,\n",
       " 'scenes': 49,\n",
       " 'something': 50,\n",
       " 'go': 51,\n",
       " 'back': 52,\n",
       " 'real': 53,\n",
       " 'watching': 54,\n",
       " 'thing': 55,\n",
       " 'actors': 56,\n",
       " 'though': 57,\n",
       " 'years': 58,\n",
       " 'director': 59,\n",
       " 'funny': 60,\n",
       " 'old': 61,\n",
       " 'another': 62,\n",
       " 'actually': 63,\n",
       " 'work': 64,\n",
       " 'makes': 65,\n",
       " 'nothing': 66,\n",
       " 'look': 67,\n",
       " 'going': 68,\n",
       " 'find': 69,\n",
       " 'lot': 70,\n",
       " 'new': 71,\n",
       " 'every': 72,\n",
       " 'part': 73,\n",
       " 'world': 74,\n",
       " 'cast': 75,\n",
       " 'us': 76,\n",
       " 'things': 77,\n",
       " 'quite': 78,\n",
       " 'want': 79,\n",
       " 'horror': 80,\n",
       " 'pretty': 81,\n",
       " 'around': 82,\n",
       " 'seems': 83,\n",
       " 'young': 84,\n",
       " 'take': 85,\n",
       " 'got': 86,\n",
       " 'thought': 87,\n",
       " 'however': 88,\n",
       " 'big': 89,\n",
       " 'long': 90,\n",
       " 'fact': 91,\n",
       " 'enough': 92,\n",
       " 'give': 93,\n",
       " 'may': 94,\n",
       " 'series': 95,\n",
       " 'must': 96,\n",
       " 'action': 97,\n",
       " 'right': 98,\n",
       " 'without': 99,\n",
       " 'music': 100,\n",
       " 'comedy': 101,\n",
       " 'original': 102,\n",
       " 'guy': 103,\n",
       " 'times': 104,\n",
       " 'saw': 105,\n",
       " 'always': 106,\n",
       " 'come': 107,\n",
       " 'almost': 108,\n",
       " 'point': 109,\n",
       " 'role': 110,\n",
       " 'gets': 111,\n",
       " 'whole': 112,\n",
       " 'least': 113,\n",
       " 'done': 114,\n",
       " 'interesting': 115,\n",
       " 'far': 116,\n",
       " 'script': 117,\n",
       " 'family': 118,\n",
       " 'feel': 119,\n",
       " 'minutes': 120,\n",
       " 'bit': 121,\n",
       " 'making': 122,\n",
       " 'anything': 123,\n",
       " 'might': 124,\n",
       " 'since': 125,\n",
       " 'tv': 126,\n",
       " 'probably': 127,\n",
       " 'last': 128,\n",
       " 'performance': 129,\n",
       " 'away': 130,\n",
       " 'kind': 131,\n",
       " 'girl': 132,\n",
       " 'worst': 133,\n",
       " 'fun': 134,\n",
       " 'yet': 135,\n",
       " 'anyone': 136,\n",
       " 'hard': 137,\n",
       " 'woman': 138,\n",
       " 'sure': 139,\n",
       " 'rather': 140,\n",
       " 'day': 141,\n",
       " 'found': 142,\n",
       " 'played': 143,\n",
       " 'although': 144,\n",
       " 'looking': 145,\n",
       " 'believe': 146,\n",
       " 'screen': 147,\n",
       " 'dvd': 148,\n",
       " 'especially': 149,\n",
       " 'trying': 150,\n",
       " 'course': 151,\n",
       " 'everything': 152,\n",
       " 'set': 153,\n",
       " 'ending': 154,\n",
       " 'put': 155,\n",
       " 'goes': 156,\n",
       " 'shows': 157,\n",
       " 'maybe': 158,\n",
       " 'place': 159,\n",
       " 'comes': 160,\n",
       " 'book': 161,\n",
       " 'worth': 162,\n",
       " 'three': 163,\n",
       " 'different': 164,\n",
       " 'main': 165,\n",
       " 'let': 166,\n",
       " 'effects': 167,\n",
       " 'actor': 168,\n",
       " 'sense': 169,\n",
       " 'someone': 170,\n",
       " 'watched': 171,\n",
       " 'looks': 172,\n",
       " 'everyone': 173,\n",
       " 'reason': 174,\n",
       " 'american': 175,\n",
       " 'year': 176,\n",
       " 'money': 177,\n",
       " 'true': 178,\n",
       " 'play': 179,\n",
       " 'together': 180,\n",
       " 'job': 181,\n",
       " 'war': 182,\n",
       " 'high': 183,\n",
       " 'special': 184,\n",
       " 'audience': 185,\n",
       " 'instead': 186,\n",
       " 'later': 187,\n",
       " 'half': 188,\n",
       " 'takes': 189,\n",
       " 'said': 190,\n",
       " 'plays': 191,\n",
       " 'left': 192,\n",
       " 'night': 193,\n",
       " 'john': 194,\n",
       " 'seem': 195,\n",
       " 'seeing': 196,\n",
       " 'beautiful': 197,\n",
       " 'house': 198,\n",
       " 'excellent': 199,\n",
       " 'shot': 200,\n",
       " 'black': 201,\n",
       " 'wife': 202,\n",
       " 'version': 203,\n",
       " 'star': 204,\n",
       " 'mind': 205,\n",
       " 'idea': 206,\n",
       " 'fan': 207,\n",
       " 'death': 208,\n",
       " 'else': 209,\n",
       " 'father': 210,\n",
       " 'budget': 211,\n",
       " 'short': 212,\n",
       " 'nice': 213,\n",
       " 'used': 214,\n",
       " 'second': 215,\n",
       " 'poor': 216,\n",
       " 'simply': 217,\n",
       " 'men': 218,\n",
       " 'completely': 219,\n",
       " 'read': 220,\n",
       " 'top': 221,\n",
       " 'along': 222,\n",
       " 'home': 223,\n",
       " 'dead': 224,\n",
       " 'either': 225,\n",
       " 'less': 226,\n",
       " 'boring': 227,\n",
       " 'help': 228,\n",
       " 'friends': 229,\n",
       " 'kids': 230,\n",
       " 'line': 231,\n",
       " 'try': 232,\n",
       " 'hollywood': 233,\n",
       " 'production': 234,\n",
       " 'camera': 235,\n",
       " 'enjoy': 236,\n",
       " 'need': 237,\n",
       " 'given': 238,\n",
       " 'classic': 239,\n",
       " 'low': 240,\n",
       " 'wrong': 241,\n",
       " 'use': 242,\n",
       " 'full': 243,\n",
       " 'performances': 244,\n",
       " 'rest': 245,\n",
       " 'next': 246,\n",
       " 'school': 247,\n",
       " 'stupid': 248,\n",
       " 'truly': 249,\n",
       " 'women': 250,\n",
       " 'couple': 251,\n",
       " 'video': 252,\n",
       " 'recommend': 253,\n",
       " 'tell': 254,\n",
       " 'awful': 255,\n",
       " 'sex': 256,\n",
       " 'start': 257,\n",
       " 'mean': 258,\n",
       " 'terrible': 259,\n",
       " 'came': 260,\n",
       " 'name': 261,\n",
       " 'perhaps': 262,\n",
       " 'mother': 263,\n",
       " 'understand': 264,\n",
       " 'moments': 265,\n",
       " 'person': 266,\n",
       " 'wonderful': 267,\n",
       " 'episode': 268,\n",
       " 'remember': 269,\n",
       " 'getting': 270,\n",
       " 'human': 271,\n",
       " 'keep': 272,\n",
       " 'face': 273,\n",
       " 'style': 274,\n",
       " 'small': 275,\n",
       " 'others': 276,\n",
       " 'early': 277,\n",
       " 'stars': 278,\n",
       " 'head': 279,\n",
       " 'boy': 280,\n",
       " 'written': 281,\n",
       " 'playing': 282,\n",
       " 'definitely': 283,\n",
       " 'perfect': 284,\n",
       " 'often': 285,\n",
       " 'gives': 286,\n",
       " 'children': 287,\n",
       " 'dialogue': 288,\n",
       " 'lines': 289,\n",
       " 'case': 290,\n",
       " 'finally': 291,\n",
       " 'piece': 292,\n",
       " 'oh': 293,\n",
       " 'title': 294,\n",
       " 'friend': 295,\n",
       " 'live': 296,\n",
       " 'went': 297,\n",
       " 'certainly': 298,\n",
       " 'laugh': 299,\n",
       " 'liked': 300,\n",
       " 'absolutely': 301,\n",
       " 'sort': 302,\n",
       " 'yes': 303,\n",
       " 'loved': 304,\n",
       " 'hope': 305,\n",
       " 'lost': 306,\n",
       " 'worse': 307,\n",
       " 'entertaining': 308,\n",
       " 'cinema': 309,\n",
       " 'become': 310,\n",
       " 'based': 311,\n",
       " 'several': 312,\n",
       " 'sound': 313,\n",
       " 'picture': 314,\n",
       " 'called': 315,\n",
       " 'supposed': 316,\n",
       " 'entire': 317,\n",
       " 'mr': 318,\n",
       " 'guys': 319,\n",
       " 'problem': 320,\n",
       " 'felt': 321,\n",
       " 'overall': 322,\n",
       " 'drama': 323,\n",
       " 'totally': 324,\n",
       " 'waste': 325,\n",
       " 'white': 326,\n",
       " 'game': 327,\n",
       " 'beginning': 328,\n",
       " 'dark': 329,\n",
       " 'care': 330,\n",
       " 'direction': 331,\n",
       " 'humor': 332,\n",
       " 'wanted': 333,\n",
       " 'seemed': 334,\n",
       " 'fans': 335,\n",
       " 'turn': 336,\n",
       " 'lives': 337,\n",
       " 'evil': 338,\n",
       " 'lead': 339,\n",
       " 'already': 340,\n",
       " 'despite': 341,\n",
       " 'example': 342,\n",
       " 'final': 343,\n",
       " 'throughout': 344,\n",
       " 'quality': 345,\n",
       " 'killer': 346,\n",
       " 'becomes': 347,\n",
       " 'son': 348,\n",
       " 'guess': 349,\n",
       " 'days': 350,\n",
       " 'unfortunately': 351,\n",
       " 'history': 352,\n",
       " 'able': 353,\n",
       " 'heart': 354,\n",
       " 'fine': 355,\n",
       " 'writing': 356,\n",
       " 'side': 357,\n",
       " 'michael': 358,\n",
       " 'flick': 359,\n",
       " 'wants': 360,\n",
       " 'horrible': 361,\n",
       " 'kill': 362,\n",
       " 'art': 363,\n",
       " 'run': 364,\n",
       " 'matter': 365,\n",
       " 'today': 366,\n",
       " 'amazing': 367,\n",
       " 'act': 368,\n",
       " 'close': 369,\n",
       " 'etc': 370,\n",
       " 'enjoyed': 371,\n",
       " 'town': 372,\n",
       " 'works': 373,\n",
       " 'child': 374,\n",
       " 'viewer': 375,\n",
       " 'behind': 376,\n",
       " 'tries': 377,\n",
       " 'kid': 378,\n",
       " 'god': 379,\n",
       " 'past': 380,\n",
       " 'eyes': 381,\n",
       " 'genre': 382,\n",
       " 'brilliant': 383,\n",
       " 'gave': 384,\n",
       " 'girls': 385,\n",
       " 'directed': 386,\n",
       " 'expect': 387,\n",
       " 'turns': 388,\n",
       " 'hand': 389,\n",
       " 'car': 390,\n",
       " 'city': 391,\n",
       " 'favorite': 392,\n",
       " 'parts': 393,\n",
       " 'late': 394,\n",
       " 'hour': 395,\n",
       " 'actress': 396,\n",
       " 'killed': 397,\n",
       " 'stuff': 398,\n",
       " 'soon': 399,\n",
       " 'obviously': 400,\n",
       " 'group': 401,\n",
       " 'decent': 402,\n",
       " 'says': 403,\n",
       " 'thinking': 404,\n",
       " 'highly': 405,\n",
       " 'stop': 406,\n",
       " 'daughter': 407,\n",
       " 'starts': 408,\n",
       " 'sometimes': 409,\n",
       " 'heard': 410,\n",
       " 'anyway': 411,\n",
       " 'type': 412,\n",
       " 'self': 413,\n",
       " 'blood': 414,\n",
       " 'known': 415,\n",
       " 'writer': 416,\n",
       " 'happens': 417,\n",
       " 'except': 418,\n",
       " 'voice': 419,\n",
       " 'took': 420,\n",
       " 'fight': 421,\n",
       " 'leave': 422,\n",
       " 'feeling': 423,\n",
       " 'experience': 424,\n",
       " 'slow': 425,\n",
       " 'told': 426,\n",
       " 'coming': 427,\n",
       " 'score': 428,\n",
       " 'strong': 429,\n",
       " 'ok': 430,\n",
       " 'including': 431,\n",
       " 'happen': 432,\n",
       " 'stories': 433,\n",
       " 'moment': 434,\n",
       " 'extremely': 435,\n",
       " 'age': 436,\n",
       " 'police': 437,\n",
       " 'violence': 438,\n",
       " 'brother': 439,\n",
       " 'wonder': 440,\n",
       " 'lack': 441,\n",
       " 'involved': 442,\n",
       " 'cannot': 443,\n",
       " 'crap': 444,\n",
       " 'hell': 445,\n",
       " 'obvious': 446,\n",
       " 'living': 447,\n",
       " 'hero': 448,\n",
       " 'save': 449,\n",
       " 'particularly': 450,\n",
       " 'looked': 451,\n",
       " 'cut': 452,\n",
       " 'song': 453,\n",
       " 'murder': 454,\n",
       " 'cool': 455,\n",
       " 'chance': 456,\n",
       " 'please': 457,\n",
       " 'shown': 458,\n",
       " 'complete': 459,\n",
       " 'gore': 460,\n",
       " 'attempt': 461,\n",
       " 'happened': 462,\n",
       " 'simple': 463,\n",
       " 'ago': 464,\n",
       " 'roles': 465,\n",
       " 'david': 466,\n",
       " 'hit': 467,\n",
       " 'hilarious': 468,\n",
       " 'husband': 469,\n",
       " 'james': 470,\n",
       " 'english': 471,\n",
       " 'taken': 472,\n",
       " 'released': 473,\n",
       " 'serious': 474,\n",
       " 'interest': 475,\n",
       " 'robert': 476,\n",
       " 'opening': 477,\n",
       " 'hours': 478,\n",
       " 'jokes': 479,\n",
       " 'possible': 480,\n",
       " 'number': 481,\n",
       " 'seriously': 482,\n",
       " 'talent': 483,\n",
       " 'across': 484,\n",
       " 'usually': 485,\n",
       " 'none': 486,\n",
       " 'cinematography': 487,\n",
       " 'order': 488,\n",
       " 'alone': 489,\n",
       " 'view': 490,\n",
       " 'reality': 491,\n",
       " 'career': 492,\n",
       " 'saying': 493,\n",
       " 'documentary': 494,\n",
       " 'light': 495,\n",
       " 'sad': 496,\n",
       " 'exactly': 497,\n",
       " 'huge': 498,\n",
       " 'running': 499,\n",
       " 'relationship': 500,\n",
       " 'annoying': 501,\n",
       " 'scary': 502,\n",
       " 'whose': 503,\n",
       " 'wish': 504,\n",
       " 'started': 505,\n",
       " 'taking': 506,\n",
       " 'ridiculous': 507,\n",
       " 'country': 508,\n",
       " 'shots': 509,\n",
       " 'body': 510,\n",
       " 'power': 511,\n",
       " 'middle': 512,\n",
       " 'female': 513,\n",
       " 'ends': 514,\n",
       " 'important': 515,\n",
       " 'word': 516,\n",
       " 'four': 517,\n",
       " 'turned': 518,\n",
       " 'change': 519,\n",
       " 'major': 520,\n",
       " 'rating': 521,\n",
       " 'call': 522,\n",
       " 'jack': 523,\n",
       " 'beyond': 524,\n",
       " 'opinion': 525,\n",
       " 'level': 526,\n",
       " 'ones': 527,\n",
       " 'somewhat': 528,\n",
       " 'silly': 529,\n",
       " 'talking': 530,\n",
       " 'happy': 531,\n",
       " 'room': 532,\n",
       " 'strange': 533,\n",
       " 'novel': 534,\n",
       " 'upon': 535,\n",
       " 'words': 536,\n",
       " 'usual': 537,\n",
       " 'knew': 538,\n",
       " 'mostly': 539,\n",
       " 'disappointed': 540,\n",
       " 'episodes': 541,\n",
       " 'modern': 542,\n",
       " 'apparently': 543,\n",
       " 'clich': 544,\n",
       " 'single': 545,\n",
       " 'basically': 546,\n",
       " 'attention': 547,\n",
       " 'problems': 548,\n",
       " 'miss': 549,\n",
       " 'knows': 550,\n",
       " 'due': 551,\n",
       " 'finds': 552,\n",
       " 'musical': 553,\n",
       " 'non': 554,\n",
       " 'british': 555,\n",
       " 'thriller': 556,\n",
       " 'class': 557,\n",
       " 'television': 558,\n",
       " 'five': 559,\n",
       " 'cheap': 560,\n",
       " 'earth': 561,\n",
       " 'clearly': 562,\n",
       " 'talk': 563,\n",
       " 'king': 564,\n",
       " 'events': 565,\n",
       " 'add': 566,\n",
       " 'team': 567,\n",
       " 'fast': 568,\n",
       " 'moving': 569,\n",
       " 'space': 570,\n",
       " 'local': 571,\n",
       " 'review': 572,\n",
       " 'ten': 573,\n",
       " 'predictable': 574,\n",
       " 'straight': 575,\n",
       " 'sequence': 576,\n",
       " 'songs': 577,\n",
       " 'tells': 578,\n",
       " 'dialog': 579,\n",
       " 'entertainment': 580,\n",
       " 'die': 581,\n",
       " 'future': 582,\n",
       " 'appears': 583,\n",
       " 'whether': 584,\n",
       " 'soundtrack': 585,\n",
       " 'enjoyable': 586,\n",
       " 'easily': 587,\n",
       " 'supporting': 588,\n",
       " 'sets': 589,\n",
       " 'sister': 590,\n",
       " 'french': 591,\n",
       " 'near': 592,\n",
       " 'hate': 593,\n",
       " 'giving': 594,\n",
       " 'lots': 595,\n",
       " 'falls': 596,\n",
       " 'within': 597,\n",
       " 'tried': 598,\n",
       " 'sequel': 599,\n",
       " 'george': 600,\n",
       " 'dull': 601,\n",
       " 'suspense': 602,\n",
       " 'similar': 603,\n",
       " 'release': 604,\n",
       " 'filmed': 605,\n",
       " 'romantic': 606,\n",
       " 'eye': 607,\n",
       " 'mention': 608,\n",
       " 'subject': 609,\n",
       " 'rock': 610,\n",
       " 'comic': 611,\n",
       " 'bring': 612,\n",
       " 'needs': 613,\n",
       " 'clear': 614,\n",
       " 'message': 615,\n",
       " 'working': 616,\n",
       " 'theme': 617,\n",
       " 'bunch': 618,\n",
       " 'easy': 619,\n",
       " 'parents': 620,\n",
       " 'surprised': 621,\n",
       " 'certain': 622,\n",
       " 'showing': 623,\n",
       " 'ways': 624,\n",
       " 'storyline': 625,\n",
       " 'stay': 626,\n",
       " 'tale': 627,\n",
       " 'th': 628,\n",
       " 'sorry': 629,\n",
       " 'effort': 630,\n",
       " 'theater': 631,\n",
       " 'monster': 632,\n",
       " 'among': 633,\n",
       " 'named': 634,\n",
       " 'stand': 635,\n",
       " 'feature': 636,\n",
       " 'lady': 637,\n",
       " 'realistic': 638,\n",
       " 'fall': 639,\n",
       " 'crime': 640,\n",
       " 'using': 641,\n",
       " 'editing': 642,\n",
       " 'minute': 643,\n",
       " 'comments': 644,\n",
       " 'typical': 645,\n",
       " 'deal': 646,\n",
       " 'elements': 647,\n",
       " 'avoid': 648,\n",
       " 'nearly': 649,\n",
       " 'buy': 650,\n",
       " 'dr': 651,\n",
       " 'general': 652,\n",
       " 'famous': 653,\n",
       " 'greatest': 654,\n",
       " 'feels': 655,\n",
       " 'kept': 656,\n",
       " 'doubt': 657,\n",
       " 'richard': 658,\n",
       " 'points': 659,\n",
       " 'means': 660,\n",
       " 'gone': 661,\n",
       " 'mystery': 662,\n",
       " 'check': 663,\n",
       " 'oscar': 664,\n",
       " 'viewers': 665,\n",
       " 'follow': 666,\n",
       " 'okay': 667,\n",
       " 'brought': 668,\n",
       " 'rent': 669,\n",
       " 'doctor': 670,\n",
       " 'actual': 671,\n",
       " 'dog': 672,\n",
       " 'peter': 673,\n",
       " 'reviews': 674,\n",
       " 'viewing': 675,\n",
       " 'red': 676,\n",
       " 'material': 677,\n",
       " 'fantastic': 678,\n",
       " 'imagine': 679,\n",
       " 'learn': 680,\n",
       " 'period': 681,\n",
       " 'move': 682,\n",
       " 'form': 683,\n",
       " 'begins': 684,\n",
       " 'weak': 685,\n",
       " 'believable': 686,\n",
       " 'imdb': 687,\n",
       " 'somehow': 688,\n",
       " 'paul': 689,\n",
       " 'tom': 690,\n",
       " 'animation': 691,\n",
       " 'fi': 692,\n",
       " 'deep': 693,\n",
       " 'leads': 694,\n",
       " 'forget': 695,\n",
       " 'figure': 696,\n",
       " 'sequences': 697,\n",
       " 'open': 698,\n",
       " 'sci': 699,\n",
       " 'hear': 700,\n",
       " 'america': 701,\n",
       " 'particular': 702,\n",
       " 'atmosphere': 703,\n",
       " 'average': 704,\n",
       " 'sit': 705,\n",
       " 'surprise': 706,\n",
       " 'boys': 707,\n",
       " 'killing': 708,\n",
       " 'whatever': 709,\n",
       " 'premise': 710,\n",
       " 'shame': 711,\n",
       " 'poorly': 712,\n",
       " 'york': 713,\n",
       " 'box': 714,\n",
       " 'lame': 715,\n",
       " 'wait': 716,\n",
       " 'truth': 717,\n",
       " 'dance': 718,\n",
       " 'season': 719,\n",
       " 'crew': 720,\n",
       " 'decided': 721,\n",
       " 'eventually': 722,\n",
       " 'expected': 723,\n",
       " 'indeed': 724,\n",
       " 'acted': 725,\n",
       " 'free': 726,\n",
       " 'note': 727,\n",
       " 'lee': 728,\n",
       " 'hot': 729,\n",
       " 'western': 730,\n",
       " 'society': 731,\n",
       " 'emotional': 732,\n",
       " 'forced': 733,\n",
       " 'situation': 734,\n",
       " 'credits': 735,\n",
       " 'third': 736,\n",
       " 'romance': 737,\n",
       " 'memorable': 738,\n",
       " 'male': 739,\n",
       " 'gay': 740,\n",
       " 'needed': 741,\n",
       " 'difficult': 742,\n",
       " 'nature': 743,\n",
       " 'sexual': 744,\n",
       " 'cheesy': 745,\n",
       " 'plus': 746,\n",
       " 'write': 747,\n",
       " 'reading': 748,\n",
       " 'unless': 749,\n",
       " 'leaves': 750,\n",
       " 'superb': 751,\n",
       " 'became': 752,\n",
       " 'question': 753,\n",
       " 'begin': 754,\n",
       " 'footage': 755,\n",
       " 'hands': 756,\n",
       " 'air': 757,\n",
       " 'possibly': 758,\n",
       " 'meets': 759,\n",
       " 'otherwise': 760,\n",
       " 'interested': 761,\n",
       " 'badly': 762,\n",
       " 'forward': 763,\n",
       " 'beauty': 764,\n",
       " 'earlier': 765,\n",
       " 'de': 766,\n",
       " 'laughs': 767,\n",
       " 'street': 768,\n",
       " 'effect': 769,\n",
       " 'masterpiece': 770,\n",
       " 'screenplay': 771,\n",
       " 'meet': 772,\n",
       " 'setting': 773,\n",
       " 'quickly': 774,\n",
       " 'water': 775,\n",
       " 'features': 776,\n",
       " 'inside': 777,\n",
       " 'stage': 778,\n",
       " 'mark': 779,\n",
       " 'weird': 780,\n",
       " 'incredibly': 781,\n",
       " 'background': 782,\n",
       " 'towards': 783,\n",
       " 'comment': 784,\n",
       " 'japanese': 785,\n",
       " 'girlfriend': 786,\n",
       " 'sounds': 787,\n",
       " 'dumb': 788,\n",
       " 'copy': 789,\n",
       " 'battle': 790,\n",
       " 'personal': 791,\n",
       " 'result': 792,\n",
       " 'baby': 793,\n",
       " 'following': 794,\n",
       " 'joe': 795,\n",
       " 'cop': 796,\n",
       " 'island': 797,\n",
       " 'unique': 798,\n",
       " 'powerful': 799,\n",
       " 'writers': 800,\n",
       " 'previous': 801,\n",
       " 'keeps': 802,\n",
       " 'directing': 803,\n",
       " 'fire': 804,\n",
       " 'development': 805,\n",
       " 'perfectly': 806,\n",
       " 'disney': 807,\n",
       " 'rate': 808,\n",
       " 'total': 809,\n",
       " 'realize': 810,\n",
       " 'joke': 811,\n",
       " 'ask': 812,\n",
       " 'dream': 813,\n",
       " 'worked': 814,\n",
       " 'bill': 815,\n",
       " 'older': 816,\n",
       " 'appear': 817,\n",
       " 'business': 818,\n",
       " 'mess': 819,\n",
       " 'gun': 820,\n",
       " 'portrayed': 821,\n",
       " 'front': 822,\n",
       " 'cover': 823,\n",
       " 'various': 824,\n",
       " 'creepy': 825,\n",
       " 'present': 826,\n",
       " 'plenty': 827,\n",
       " 'directors': 828,\n",
       " 'crazy': 829,\n",
       " 'outside': 830,\n",
       " 'spent': 831,\n",
       " 'reasons': 832,\n",
       " 'dramatic': 833,\n",
       " 'brings': 834,\n",
       " 'admit': 835,\n",
       " 'pay': 836,\n",
       " 'party': 837,\n",
       " 'telling': 838,\n",
       " 'deserves': 839,\n",
       " 'secret': 840,\n",
       " 'fairly': 841,\n",
       " 'break': 842,\n",
       " 'apart': 843,\n",
       " 'political': 844,\n",
       " 'meant': 845,\n",
       " 'wasted': 846,\n",
       " 'zombie': 847,\n",
       " 'create': 848,\n",
       " 'agree': 849,\n",
       " 'era': 850,\n",
       " 'list': 851,\n",
       " 'fails': 852,\n",
       " 'odd': 853,\n",
       " 'expecting': 854,\n",
       " 'attempts': 855,\n",
       " 'rich': 856,\n",
       " 'twist': 857,\n",
       " 'missing': 858,\n",
       " 'leading': 859,\n",
       " 'manages': 860,\n",
       " 'william': 861,\n",
       " 'caught': 862,\n",
       " 'ideas': 863,\n",
       " 'produced': 864,\n",
       " 'potential': 865,\n",
       " 'talented': 866,\n",
       " 'villain': 867,\n",
       " 'hardly': 868,\n",
       " 'fighting': 869,\n",
       " 'cute': 870,\n",
       " 'large': 871,\n",
       " 'laughing': 872,\n",
       " 'success': 873,\n",
       " 'match': 874,\n",
       " 'return': 875,\n",
       " 'members': 876,\n",
       " 'plain': 877,\n",
       " 'fantasy': 878,\n",
       " 'clever': 879,\n",
       " 'office': 880,\n",
       " 'century': 881,\n",
       " 'unlike': 882,\n",
       " 'co': 883,\n",
       " 'recently': 884,\n",
       " 'filmmakers': 885,\n",
       " 'flat': 886,\n",
       " 'missed': 887,\n",
       " 'scott': 888,\n",
       " 'remake': 889,\n",
       " 'public': 890,\n",
       " 'created': 891,\n",
       " 'state': 892,\n",
       " 'company': 893,\n",
       " 'ended': 894,\n",
       " 'nudity': 895,\n",
       " 'german': 896,\n",
       " 'casting': 897,\n",
       " 'sadly': 898,\n",
       " 'wrote': 899,\n",
       " 'filled': 900,\n",
       " 'pure': 901,\n",
       " 'cartoon': 902,\n",
       " 'slightly': 903,\n",
       " 'escape': 904,\n",
       " 'married': 905,\n",
       " 'hold': 906,\n",
       " 'cause': 907,\n",
       " 'spoilers': 908,\n",
       " 'speak': 909,\n",
       " 'mentioned': 910,\n",
       " 'cold': 911,\n",
       " 'italian': 912,\n",
       " 'train': 913,\n",
       " 'pace': 914,\n",
       " 'incredible': 915,\n",
       " 'hair': 916,\n",
       " 'died': 917,\n",
       " 'uses': 918,\n",
       " 'familiar': 919,\n",
       " 'visual': 920,\n",
       " 'language': 921,\n",
       " 'science': 922,\n",
       " 'dancing': 923,\n",
       " 'popular': 924,\n",
       " 'intelligent': 925,\n",
       " 'credit': 926,\n",
       " 'sees': 927,\n",
       " 'waiting': 928,\n",
       " 'decides': 929,\n",
       " 'considering': 930,\n",
       " 'convincing': 931,\n",
       " 'band': 932,\n",
       " 'brothers': 933,\n",
       " 'force': 934,\n",
       " 'store': 935,\n",
       " 'alien': 936,\n",
       " 'portrayal': 937,\n",
       " 'anti': 938,\n",
       " 'fear': 939,\n",
       " 'former': 940,\n",
       " 'sweet': 941,\n",
       " 'sick': 942,\n",
       " 'younger': 943,\n",
       " 'value': 944,\n",
       " 'trouble': 945,\n",
       " 'law': 946,\n",
       " 'follows': 947,\n",
       " 'social': 948,\n",
       " 'entirely': 949,\n",
       " 'yeah': 950,\n",
       " 'alive': 951,\n",
       " 'exciting': 952,\n",
       " 'fit': 953,\n",
       " 'suddenly': 954,\n",
       " 'amount': 955,\n",
       " 'mad': 956,\n",
       " 'appreciate': 957,\n",
       " 'common': 958,\n",
       " 'biggest': 959,\n",
       " 'cat': 960,\n",
       " 'van': 961,\n",
       " 'college': 962,\n",
       " 'tension': 963,\n",
       " 'successful': 964,\n",
       " 'compared': 965,\n",
       " 'jane': 966,\n",
       " 'violent': 967,\n",
       " 'depth': 968,\n",
       " 'neither': 969,\n",
       " 'moves': 970,\n",
       " 'focus': 971,\n",
       " 'honest': 972,\n",
       " 'control': 973,\n",
       " 'project': 974,\n",
       " 'longer': 975,\n",
       " 'situations': 976,\n",
       " 'recommended': 977,\n",
       " 'concept': 978,\n",
       " 'pointless': 979,\n",
       " 'la': 980,\n",
       " 'culture': 981,\n",
       " 'spend': 982,\n",
       " 'choice': 983,\n",
       " 'bored': 984,\n",
       " 'amusing': 985,\n",
       " 'spirit': 986,\n",
       " 'bizarre': 987,\n",
       " 'studio': 988,\n",
       " 'brain': 989,\n",
       " 'images': 990,\n",
       " 'ultimately': 991,\n",
       " 'positive': 992,\n",
       " 'adventure': 993,\n",
       " 'producers': 994,\n",
       " 'meaning': 995,\n",
       " 'drug': 996,\n",
       " 'respect': 997,\n",
       " 'awesome': 998,\n",
       " 'kills': 999,\n",
       " 'fake': 1000,\n",
       " ...}"
      ]
     },
     "execution_count": 61,
     "metadata": {},
     "output_type": "execute_result"
    }
   ],
   "execution_count": 61
  },
  {
   "metadata": {
    "ExecuteTime": {
     "end_time": "2024-12-02T17:15:36.614250Z",
     "start_time": "2024-12-02T17:15:36.606658Z"
    }
   },
   "cell_type": "code",
   "source": [
    "vocab_length=len(word_tokenizer.word_index)\n",
    "vocab_length"
   ],
   "id": "eb8201c3e3b3a034",
   "outputs": [
    {
     "data": {
      "text/plain": [
       "92393"
      ]
     },
     "execution_count": 62,
     "metadata": {},
     "output_type": "execute_result"
    }
   ],
   "execution_count": 62
  },
  {
   "metadata": {
    "ExecuteTime": {
     "end_time": "2024-12-02T16:56:42.859805Z",
     "start_time": "2024-12-02T16:56:42.554680Z"
    }
   },
   "cell_type": "code",
   "source": [
    "X_train=pad_sequences(X_train, padding='post', maxlen=100)\n",
    "X_test=pad_sequences(X_test, padding='post', maxlen=100)"
   ],
   "id": "e064a3c6433922a2",
   "outputs": [],
   "execution_count": 52
  },
  {
   "metadata": {
    "ExecuteTime": {
     "end_time": "2024-12-02T16:59:26.933350Z",
     "start_time": "2024-12-02T16:59:26.925890Z"
    }
   },
   "cell_type": "code",
   "source": "X_train",
   "id": "ca7dfa0b3a423df4",
   "outputs": [
    {
     "data": {
      "text/plain": [
       "array([[32471,   121,   100, ...,    96,   232,  3671],\n",
       "       [  299,    33,    83, ...,    22,  1545,    27],\n",
       "       [ 1173,    35,     9, ...,     0,     0,     0],\n",
       "       ...,\n",
       "       [  648,     3,   259, ...,     0,     0,     0],\n",
       "       [  234,    78,   706, ...,     0,     0,     0],\n",
       "       [  402,     1,   144, ...,     0,     0,     0]])"
      ]
     },
     "execution_count": 55,
     "metadata": {},
     "output_type": "execute_result"
    }
   ],
   "execution_count": 55
  },
  {
   "metadata": {
    "ExecuteTime": {
     "end_time": "2024-12-02T17:00:17.162754Z",
     "start_time": "2024-12-02T17:00:17.156166Z"
    }
   },
   "cell_type": "code",
   "source": "X_test",
   "id": "f98df1eac2796c23",
   "outputs": [
    {
     "data": {
      "text/plain": [
       "array([[   38, 40602,    42, ...,   154,    88,   839],\n",
       "       [  276,  1064,   149, ...,   258,  8378,  7877],\n",
       "       [    2,   774,   111, ...,     0,     0,     0],\n",
       "       ...,\n",
       "       [  303,   554, 24633, ...,   484,    74,  2792],\n",
       "       [  116,    29,    51, ...,     0,     0,     0],\n",
       "       [  105,  7918,    58, ...,     0,     0,     0]])"
      ]
     },
     "execution_count": 56,
     "metadata": {},
     "output_type": "execute_result"
    }
   ],
   "execution_count": 56
  },
  {
   "metadata": {
    "ExecuteTime": {
     "end_time": "2024-12-02T17:18:46.898876Z",
     "start_time": "2024-12-02T17:18:46.894867Z"
    }
   },
   "cell_type": "code",
   "source": [
    "embeddings_dictionary=dict()\n",
    "glove_file=open('C:\\\\Users\\Othmane\\Desktop\\BDSaS S3\\Sentiments Analysis\\SentimentsAnalysis\\data\\\\a2_glove.6B.100d.txt',encoding=\"utf-8\")"
   ],
   "id": "fa002efdfc84d4c4",
   "outputs": [],
   "execution_count": 64
  },
  {
   "metadata": {},
   "cell_type": "markdown",
   "source": "# Word Embeddings",
   "id": "9719feea136fc6da"
  },
  {
   "metadata": {
    "ExecuteTime": {
     "end_time": "2024-12-02T17:19:09.912548Z",
     "start_time": "2024-12-02T17:18:56.864784Z"
    }
   },
   "cell_type": "code",
   "source": [
    "for line in glove_file:\n",
    "    records = line.split()\n",
    "    word = records[0]\n",
    "    vector=np.asarray(records[1:], dtype='float32')\n",
    "    embeddings_dictionary[word]=vector\n",
    "glove_file.close()"
   ],
   "id": "ba17df6a901b5977",
   "outputs": [],
   "execution_count": 65
  },
  {
   "metadata": {},
   "cell_type": "markdown",
   "source": "### Create Embedding Matrix, Containing 100-Dimensional GloVe word embeddings",
   "id": "e516bc951c0a29bc"
  },
  {
   "metadata": {
    "ExecuteTime": {
     "end_time": "2024-12-02T17:20:22.848854Z",
     "start_time": "2024-12-02T17:20:22.684812Z"
    }
   },
   "cell_type": "code",
   "source": [
    "embedding_matrix=np.zeros((vocab_length+1,100))\n",
    "for word, index in word_tokenizer.word_index.items():\n",
    "    embedding_vect= embeddings_dictionary.get(word)\n",
    "    if embedding_vect is not None:\n",
    "        embedding_matrix[index]=embedding_vect"
   ],
   "id": "c971daafeb670e33",
   "outputs": [],
   "execution_count": 69
  },
  {
   "metadata": {},
   "cell_type": "markdown",
   "source": "# Training Using CNN",
   "id": "79c5d80b2a94a349"
  },
  {
   "metadata": {
    "ExecuteTime": {
     "end_time": "2024-12-02T18:27:27.989323Z",
     "start_time": "2024-12-02T18:27:27.982411Z"
    }
   },
   "cell_type": "code",
   "source": [
    "from tensorflow.keras.layers import Dense, Embedding, GlobalMaxPooling1D,Conv1D,LSTM\n",
    "from tensorflow.keras.models import Sequential\n"
   ],
   "id": "ab105fc96c7a327d",
   "outputs": [],
   "execution_count": 126
  },
  {
   "metadata": {},
   "cell_type": "markdown",
   "source": "### Creating CNN Model",
   "id": "7c4930fb085f3f45"
  },
  {
   "metadata": {
    "ExecuteTime": {
     "end_time": "2024-12-02T17:55:37.758045Z",
     "start_time": "2024-12-02T17:55:37.670682Z"
    }
   },
   "cell_type": "code",
   "source": [
    "cnn_model=Sequential()\n",
    "\n",
    "cnn_model.add(Embedding(\n",
    "    input_dim=vocab_length + 1,     # Taille du vocabulaire\n",
    "    output_dim=100,                # Dimension des vecteurs\n",
    "    input_length=100,\n",
    "    weights=[embedding_matrix],    # Poids de la matrice pré-entraînée\n",
    "    trainable=False  # Geler les poids\n",
    "))\n",
    "cnn_model.add(Conv1D(filters=128,kernel_size=5,activation='relu'))\n",
    "cnn_model.add(GlobalMaxPooling1D())\n",
    "cnn_model.add(Dense(1,activation='sigmoid'))\n"
   ],
   "id": "6bedb95221c86f8d",
   "outputs": [
    {
     "name": "stderr",
     "output_type": "stream",
     "text": [
      "C:\\Users\\Othmane\\anaconda3\\Lib\\site-packages\\keras\\src\\layers\\core\\embedding.py:90: UserWarning: Argument `input_length` is deprecated. Just remove it.\n",
      "  warnings.warn(\n"
     ]
    }
   ],
   "execution_count": 108
  },
  {
   "metadata": {
    "ExecuteTime": {
     "end_time": "2024-12-02T17:55:38.776496Z",
     "start_time": "2024-12-02T17:55:38.756851Z"
    }
   },
   "cell_type": "code",
   "source": "cnn_model.compile(optimizer='adam',loss='binary_crossentropy',metrics=['accuracy'])",
   "id": "907d791082bb5fa0",
   "outputs": [],
   "execution_count": 109
  },
  {
   "metadata": {
    "ExecuteTime": {
     "end_time": "2024-12-02T17:55:39.878658Z",
     "start_time": "2024-12-02T17:55:39.839551Z"
    }
   },
   "cell_type": "code",
   "source": "print(cnn_model.summary())",
   "id": "36a6e959cfe0cf52",
   "outputs": [
    {
     "data": {
      "text/plain": [
       "\u001B[1mModel: \"sequential_12\"\u001B[0m\n"
      ],
      "text/html": [
       "<pre style=\"white-space:pre;overflow-x:auto;line-height:normal;font-family:Menlo,'DejaVu Sans Mono',consolas,'Courier New',monospace\"><span style=\"font-weight: bold\">Model: \"sequential_12\"</span>\n",
       "</pre>\n"
      ]
     },
     "metadata": {},
     "output_type": "display_data"
    },
    {
     "data": {
      "text/plain": [
       "┏━━━━━━━━━━━━━━━━━━━━━━━━━━━━━━━━━┳━━━━━━━━━━━━━━━━━━━━━━━━┳━━━━━━━━━━━━━━━┓\n",
       "┃\u001B[1m \u001B[0m\u001B[1mLayer (type)                   \u001B[0m\u001B[1m \u001B[0m┃\u001B[1m \u001B[0m\u001B[1mOutput Shape          \u001B[0m\u001B[1m \u001B[0m┃\u001B[1m \u001B[0m\u001B[1m      Param #\u001B[0m\u001B[1m \u001B[0m┃\n",
       "┡━━━━━━━━━━━━━━━━━━━━━━━━━━━━━━━━━╇━━━━━━━━━━━━━━━━━━━━━━━━╇━━━━━━━━━━━━━━━┩\n",
       "│ embedding_10 (\u001B[38;5;33mEmbedding\u001B[0m)        │ ?                      │     \u001B[38;5;34m9,239,400\u001B[0m │\n",
       "├─────────────────────────────────┼────────────────────────┼───────────────┤\n",
       "│ conv1d_9 (\u001B[38;5;33mConv1D\u001B[0m)               │ ?                      │   \u001B[38;5;34m0\u001B[0m (unbuilt) │\n",
       "├─────────────────────────────────┼────────────────────────┼───────────────┤\n",
       "│ global_max_pooling1d_6          │ ?                      │             \u001B[38;5;34m0\u001B[0m │\n",
       "│ (\u001B[38;5;33mGlobalMaxPooling1D\u001B[0m)            │                        │               │\n",
       "├─────────────────────────────────┼────────────────────────┼───────────────┤\n",
       "│ dense_8 (\u001B[38;5;33mDense\u001B[0m)                 │ ?                      │   \u001B[38;5;34m0\u001B[0m (unbuilt) │\n",
       "└─────────────────────────────────┴────────────────────────┴───────────────┘\n"
      ],
      "text/html": [
       "<pre style=\"white-space:pre;overflow-x:auto;line-height:normal;font-family:Menlo,'DejaVu Sans Mono',consolas,'Courier New',monospace\">┏━━━━━━━━━━━━━━━━━━━━━━━━━━━━━━━━━┳━━━━━━━━━━━━━━━━━━━━━━━━┳━━━━━━━━━━━━━━━┓\n",
       "┃<span style=\"font-weight: bold\"> Layer (type)                    </span>┃<span style=\"font-weight: bold\"> Output Shape           </span>┃<span style=\"font-weight: bold\">       Param # </span>┃\n",
       "┡━━━━━━━━━━━━━━━━━━━━━━━━━━━━━━━━━╇━━━━━━━━━━━━━━━━━━━━━━━━╇━━━━━━━━━━━━━━━┩\n",
       "│ embedding_10 (<span style=\"color: #0087ff; text-decoration-color: #0087ff\">Embedding</span>)        │ ?                      │     <span style=\"color: #00af00; text-decoration-color: #00af00\">9,239,400</span> │\n",
       "├─────────────────────────────────┼────────────────────────┼───────────────┤\n",
       "│ conv1d_9 (<span style=\"color: #0087ff; text-decoration-color: #0087ff\">Conv1D</span>)               │ ?                      │   <span style=\"color: #00af00; text-decoration-color: #00af00\">0</span> (unbuilt) │\n",
       "├─────────────────────────────────┼────────────────────────┼───────────────┤\n",
       "│ global_max_pooling1d_6          │ ?                      │             <span style=\"color: #00af00; text-decoration-color: #00af00\">0</span> │\n",
       "│ (<span style=\"color: #0087ff; text-decoration-color: #0087ff\">GlobalMaxPooling1D</span>)            │                        │               │\n",
       "├─────────────────────────────────┼────────────────────────┼───────────────┤\n",
       "│ dense_8 (<span style=\"color: #0087ff; text-decoration-color: #0087ff\">Dense</span>)                 │ ?                      │   <span style=\"color: #00af00; text-decoration-color: #00af00\">0</span> (unbuilt) │\n",
       "└─────────────────────────────────┴────────────────────────┴───────────────┘\n",
       "</pre>\n"
      ]
     },
     "metadata": {},
     "output_type": "display_data"
    },
    {
     "data": {
      "text/plain": [
       "\u001B[1m Total params: \u001B[0m\u001B[38;5;34m9,239,400\u001B[0m (35.25 MB)\n"
      ],
      "text/html": [
       "<pre style=\"white-space:pre;overflow-x:auto;line-height:normal;font-family:Menlo,'DejaVu Sans Mono',consolas,'Courier New',monospace\"><span style=\"font-weight: bold\"> Total params: </span><span style=\"color: #00af00; text-decoration-color: #00af00\">9,239,400</span> (35.25 MB)\n",
       "</pre>\n"
      ]
     },
     "metadata": {},
     "output_type": "display_data"
    },
    {
     "data": {
      "text/plain": [
       "\u001B[1m Trainable params: \u001B[0m\u001B[38;5;34m0\u001B[0m (0.00 B)\n"
      ],
      "text/html": [
       "<pre style=\"white-space:pre;overflow-x:auto;line-height:normal;font-family:Menlo,'DejaVu Sans Mono',consolas,'Courier New',monospace\"><span style=\"font-weight: bold\"> Trainable params: </span><span style=\"color: #00af00; text-decoration-color: #00af00\">0</span> (0.00 B)\n",
       "</pre>\n"
      ]
     },
     "metadata": {},
     "output_type": "display_data"
    },
    {
     "data": {
      "text/plain": [
       "\u001B[1m Non-trainable params: \u001B[0m\u001B[38;5;34m9,239,400\u001B[0m (35.25 MB)\n"
      ],
      "text/html": [
       "<pre style=\"white-space:pre;overflow-x:auto;line-height:normal;font-family:Menlo,'DejaVu Sans Mono',consolas,'Courier New',monospace\"><span style=\"font-weight: bold\"> Non-trainable params: </span><span style=\"color: #00af00; text-decoration-color: #00af00\">9,239,400</span> (35.25 MB)\n",
       "</pre>\n"
      ]
     },
     "metadata": {},
     "output_type": "display_data"
    },
    {
     "name": "stdout",
     "output_type": "stream",
     "text": [
      "None\n"
     ]
    }
   ],
   "execution_count": 110
  },
  {
   "metadata": {},
   "cell_type": "markdown",
   "source": "### Train the model on Train Data",
   "id": "7fabf3cda568f5c"
  },
  {
   "metadata": {},
   "cell_type": "code",
   "outputs": [
    {
     "name": "stdout",
     "output_type": "stream",
     "text": [
      "Epoch 1/10\n",
      "\u001B[1m313/313\u001B[0m \u001B[32m━━━━━━━━━━━━━━━━━━━━\u001B[0m\u001B[37m\u001B[0m \u001B[1m26s\u001B[0m 62ms/step - accuracy: 0.7126 - loss: 0.5447 - val_accuracy: 0.8399 - val_loss: 0.3700\n",
      "Epoch 2/10\n",
      "\u001B[1m313/313\u001B[0m \u001B[32m━━━━━━━━━━━━━━━━━━━━\u001B[0m\u001B[37m\u001B[0m \u001B[1m17s\u001B[0m 55ms/step - accuracy: 0.8585 - loss: 0.3336 - val_accuracy: 0.8494 - val_loss: 0.3423\n",
      "Epoch 3/10\n",
      "\u001B[1m313/313\u001B[0m \u001B[32m━━━━━━━━━━━━━━━━━━━━\u001B[0m\u001B[37m\u001B[0m \u001B[1m16s\u001B[0m 50ms/step - accuracy: 0.8913 - loss: 0.2733 - val_accuracy: 0.8513 - val_loss: 0.3327\n",
      "Epoch 4/10\n",
      "\u001B[1m313/313\u001B[0m \u001B[32m━━━━━━━━━━━━━━━━━━━━\u001B[0m\u001B[37m\u001B[0m \u001B[1m19s\u001B[0m 61ms/step - accuracy: 0.9126 - loss: 0.2321 - val_accuracy: 0.8514 - val_loss: 0.3356\n",
      "Epoch 5/10\n",
      "\u001B[1m313/313\u001B[0m \u001B[32m━━━━━━━━━━━━━━━━━━━━\u001B[0m\u001B[37m\u001B[0m \u001B[1m17s\u001B[0m 53ms/step - accuracy: 0.9340 - loss: 0.1934 - val_accuracy: 0.8554 - val_loss: 0.3280\n",
      "Epoch 6/10\n",
      "\u001B[1m313/313\u001B[0m \u001B[32m━━━━━━━━━━━━━━━━━━━━\u001B[0m\u001B[37m\u001B[0m \u001B[1m16s\u001B[0m 50ms/step - accuracy: 0.9549 - loss: 0.1559 - val_accuracy: 0.8577 - val_loss: 0.3290\n",
      "Epoch 7/10\n",
      "\u001B[1m313/313\u001B[0m \u001B[32m━━━━━━━━━━━━━━━━━━━━\u001B[0m\u001B[37m\u001B[0m \u001B[1m16s\u001B[0m 52ms/step - accuracy: 0.9673 - loss: 0.1294 - val_accuracy: 0.8560 - val_loss: 0.3547\n",
      "Epoch 8/10\n",
      "\u001B[1m313/313\u001B[0m \u001B[32m━━━━━━━━━━━━━━━━━━━━\u001B[0m\u001B[37m\u001B[0m \u001B[1m17s\u001B[0m 55ms/step - accuracy: 0.9777 - loss: 0.1057 - val_accuracy: 0.8554 - val_loss: 0.3566\n",
      "Epoch 9/10\n",
      "\u001B[1m313/313\u001B[0m \u001B[32m━━━━━━━━━━━━━━━━━━━━\u001B[0m\u001B[37m\u001B[0m \u001B[1m16s\u001B[0m 50ms/step - accuracy: 0.9873 - loss: 0.0828 - val_accuracy: 0.8531 - val_loss: 0.3534\n",
      "Epoch 10/10\n",
      "\u001B[1m313/313\u001B[0m \u001B[32m━━━━━━━━━━━━━━━━━━━━\u001B[0m\u001B[37m\u001B[0m \u001B[1m15s\u001B[0m 47ms/step - accuracy: 0.9930 - loss: 0.0659 - val_accuracy: 0.8587 - val_loss: 0.3622\n"
     ]
    }
   ],
   "execution_count": 111,
   "source": "cnn_history=cnn_model.fit(X_train,y_train,batch_size=128,epochs=10,verbose=1,validation_split=0.2,validation_data=(X_test,y_test))",
   "id": "627715a1a5704bcf"
  },
  {
   "metadata": {},
   "cell_type": "markdown",
   "source": "### Evaluate the model on the Test Data",
   "id": "4f50e7d9fa02fafa"
  },
  {
   "metadata": {
    "ExecuteTime": {
     "end_time": "2024-12-02T18:10:38.317242Z",
     "start_time": "2024-12-02T18:10:36.414276Z"
    }
   },
   "cell_type": "code",
   "source": "pred=cnn_model.evaluate(X_test,y_test,verbose=1)",
   "id": "906feb39b96ecc96",
   "outputs": [
    {
     "name": "stdout",
     "output_type": "stream",
     "text": [
      "\u001B[1m313/313\u001B[0m \u001B[32m━━━━━━━━━━━━━━━━━━━━\u001B[0m\u001B[37m\u001B[0m \u001B[1m2s\u001B[0m 6ms/step - accuracy: 0.8646 - loss: 0.3615\n"
     ]
    }
   ],
   "execution_count": 112
  },
  {
   "metadata": {
    "ExecuteTime": {
     "end_time": "2024-12-02T18:12:17.212183Z",
     "start_time": "2024-12-02T18:12:17.205761Z"
    }
   },
   "cell_type": "code",
   "source": [
    "print('Test Accuracy:',pred[1])\n",
    "print('Test Loss:',pred[0])"
   ],
   "id": "78298073d9cd7d43",
   "outputs": [
    {
     "name": "stdout",
     "output_type": "stream",
     "text": [
      "Test Accuracy: 0.8586999773979187\n",
      "Test Loss: 0.36218634247779846\n"
     ]
    }
   ],
   "execution_count": 114
  },
  {
   "metadata": {},
   "cell_type": "markdown",
   "source": "### Model Performance",
   "id": "6094f63722536252"
  },
  {
   "metadata": {
    "ExecuteTime": {
     "end_time": "2024-12-02T18:19:18.577755Z",
     "start_time": "2024-12-02T18:19:18.345264Z"
    }
   },
   "cell_type": "code",
   "source": [
    "plt.plot(cnn_history.history['accuracy'])\n",
    "plt.plot(cnn_history.history['val_accuracy'])\n",
    "plt.xlabel('epochs')\n",
    "plt.ylabel('accuracy')\n",
    "plt.legend(['train','test'])\n",
    "plt.show()"
   ],
   "id": "98c7fa7e3661b2cf",
   "outputs": [
    {
     "data": {
      "text/plain": [
       "<Figure size 640x480 with 1 Axes>"
      ],
      "image/png": "[encoded data removed]"
     },
     "metadata": {},
     "output_type": "display_data"
    }
   ],
   "execution_count": 123
  },
  {
   "metadata": {
    "ExecuteTime": {
     "end_time": "2024-12-02T18:20:41.232823Z",
     "start_time": "2024-12-02T18:20:41.036044Z"
    }
   },
   "cell_type": "code",
   "source": [
    "plt.plot(cnn_history.history['loss'])\n",
    "plt.plot(cnn_history.history['val_loss'])\n",
    "plt.xlabel('epochs')\n",
    "plt.ylabel('loss')\n",
    "plt.legend(['train','test'])\n",
    "plt.show()"
   ],
   "id": "64a73510ef334bae",
   "outputs": [
    {
     "data": {
      "text/plain": [
       "<Figure size 640x480 with 1 Axes>"
      ],
      "image/png": "[encoded data removed]"
     },
     "metadata": {},
     "output_type": "display_data"
    }
   ],
   "execution_count": 125
  },
  {
   "metadata": {},
   "cell_type": "markdown",
   "source": "# Training using LSTM",
   "id": "57d64a07196638a"
  },
  {
   "metadata": {},
   "cell_type": "markdown",
   "source": "### Creating LSTM Model",
   "id": "9adbcc8a7a11bb00"
  },
  {
   "metadata": {
    "ExecuteTime": {
     "end_time": "2024-12-02T18:30:00.204692Z",
     "start_time": "2024-12-02T18:29:59.935349Z"
    }
   },
   "cell_type": "code",
   "source": [
    "lstm_model=Sequential()\n",
    "lstm_model.add(Embedding(\n",
    "    input_dim=vocab_length + 1,     # Taille du vocabulaire\n",
    "    output_dim=100,                # Dimension des vecteurs\n",
    "    input_length=100,\n",
    "    weights=[embedding_matrix],    # Poids de la matrice pré-entraînée\n",
    "    trainable=False                # Geler les poids\n",
    "))\n",
    "lstm_model.add(LSTM(128))\n",
    "lstm_model.add(Dense(1,activation='sigmoid'))\n"
   ],
   "id": "bf46a1bbf03cadd6",
   "outputs": [
    {
     "name": "stderr",
     "output_type": "stream",
     "text": [
      "C:\\Users\\Othmane\\anaconda3\\Lib\\site-packages\\keras\\src\\layers\\core\\embedding.py:90: UserWarning: Argument `input_length` is deprecated. Just remove it.\n",
      "  warnings.warn(\n"
     ]
    }
   ],
   "execution_count": 127
  },
  {
   "metadata": {
    "ExecuteTime": {
     "end_time": "2024-12-02T18:31:45.025038Z",
     "start_time": "2024-12-02T18:31:45.010070Z"
    }
   },
   "cell_type": "code",
   "source": "lstm_model.compile(optimizer='adam',loss='binary_crossentropy',metrics=['accuracy'])",
   "id": "d094d24470db786a",
   "outputs": [],
   "execution_count": 129
  },
  {
   "metadata": {
    "ExecuteTime": {
     "end_time": "2024-12-02T18:31:54.193554Z",
     "start_time": "2024-12-02T18:31:54.158094Z"
    }
   },
   "cell_type": "code",
   "source": "lstm_model.summary()",
   "id": "1d7bf93226bed51d",
   "outputs": [
    {
     "data": {
      "text/plain": [
       "\u001B[1mModel: \"sequential_13\"\u001B[0m\n"
      ],
      "text/html": [
       "<pre style=\"white-space:pre;overflow-x:auto;line-height:normal;font-family:Menlo,'DejaVu Sans Mono',consolas,'Courier New',monospace\"><span style=\"font-weight: bold\">Model: \"sequential_13\"</span>\n",
       "</pre>\n"
      ]
     },
     "metadata": {},
     "output_type": "display_data"
    },
    {
     "data": {
      "text/plain": [
       "┏━━━━━━━━━━━━━━━━━━━━━━━━━━━━━━━━━┳━━━━━━━━━━━━━━━━━━━━━━━━┳━━━━━━━━━━━━━━━┓\n",
       "┃\u001B[1m \u001B[0m\u001B[1mLayer (type)                   \u001B[0m\u001B[1m \u001B[0m┃\u001B[1m \u001B[0m\u001B[1mOutput Shape          \u001B[0m\u001B[1m \u001B[0m┃\u001B[1m \u001B[0m\u001B[1m      Param #\u001B[0m\u001B[1m \u001B[0m┃\n",
       "┡━━━━━━━━━━━━━━━━━━━━━━━━━━━━━━━━━╇━━━━━━━━━━━━━━━━━━━━━━━━╇━━━━━━━━━━━━━━━┩\n",
       "│ embedding_11 (\u001B[38;5;33mEmbedding\u001B[0m)        │ ?                      │     \u001B[38;5;34m9,239,400\u001B[0m │\n",
       "├─────────────────────────────────┼────────────────────────┼───────────────┤\n",
       "│ lstm (\u001B[38;5;33mLSTM\u001B[0m)                     │ ?                      │   \u001B[38;5;34m0\u001B[0m (unbuilt) │\n",
       "├─────────────────────────────────┼────────────────────────┼───────────────┤\n",
       "│ dense_9 (\u001B[38;5;33mDense\u001B[0m)                 │ ?                      │   \u001B[38;5;34m0\u001B[0m (unbuilt) │\n",
       "└─────────────────────────────────┴────────────────────────┴───────────────┘\n"
      ],
      "text/html": [
       "<pre style=\"white-space:pre;overflow-x:auto;line-height:normal;font-family:Menlo,'DejaVu Sans Mono',consolas,'Courier New',monospace\">┏━━━━━━━━━━━━━━━━━━━━━━━━━━━━━━━━━┳━━━━━━━━━━━━━━━━━━━━━━━━┳━━━━━━━━━━━━━━━┓\n",
       "┃<span style=\"font-weight: bold\"> Layer (type)                    </span>┃<span style=\"font-weight: bold\"> Output Shape           </span>┃<span style=\"font-weight: bold\">       Param # </span>┃\n",
       "┡━━━━━━━━━━━━━━━━━━━━━━━━━━━━━━━━━╇━━━━━━━━━━━━━━━━━━━━━━━━╇━━━━━━━━━━━━━━━┩\n",
       "│ embedding_11 (<span style=\"color: #0087ff; text-decoration-color: #0087ff\">Embedding</span>)        │ ?                      │     <span style=\"color: #00af00; text-decoration-color: #00af00\">9,239,400</span> │\n",
       "├─────────────────────────────────┼────────────────────────┼───────────────┤\n",
       "│ lstm (<span style=\"color: #0087ff; text-decoration-color: #0087ff\">LSTM</span>)                     │ ?                      │   <span style=\"color: #00af00; text-decoration-color: #00af00\">0</span> (unbuilt) │\n",
       "├─────────────────────────────────┼────────────────────────┼───────────────┤\n",
       "│ dense_9 (<span style=\"color: #0087ff; text-decoration-color: #0087ff\">Dense</span>)                 │ ?                      │   <span style=\"color: #00af00; text-decoration-color: #00af00\">0</span> (unbuilt) │\n",
       "└─────────────────────────────────┴────────────────────────┴───────────────┘\n",
       "</pre>\n"
      ]
     },
     "metadata": {},
     "output_type": "display_data"
    },
    {
     "data": {
      "text/plain": [
       "\u001B[1m Total params: \u001B[0m\u001B[38;5;34m9,239,400\u001B[0m (35.25 MB)\n"
      ],
      "text/html": [
       "<pre style=\"white-space:pre;overflow-x:auto;line-height:normal;font-family:Menlo,'DejaVu Sans Mono',consolas,'Courier New',monospace\"><span style=\"font-weight: bold\"> Total params: </span><span style=\"color: #00af00; text-decoration-color: #00af00\">9,239,400</span> (35.25 MB)\n",
       "</pre>\n"
      ]
     },
     "metadata": {},
     "output_type": "display_data"
    },
    {
     "data": {
      "text/plain": [
       "\u001B[1m Trainable params: \u001B[0m\u001B[38;5;34m0\u001B[0m (0.00 B)\n"
      ],
      "text/html": [
       "<pre style=\"white-space:pre;overflow-x:auto;line-height:normal;font-family:Menlo,'DejaVu Sans Mono',consolas,'Courier New',monospace\"><span style=\"font-weight: bold\"> Trainable params: </span><span style=\"color: #00af00; text-decoration-color: #00af00\">0</span> (0.00 B)\n",
       "</pre>\n"
      ]
     },
     "metadata": {},
     "output_type": "display_data"
    },
    {
     "data": {
      "text/plain": [
       "\u001B[1m Non-trainable params: \u001B[0m\u001B[38;5;34m9,239,400\u001B[0m (35.25 MB)\n"
      ],
      "text/html": [
       "<pre style=\"white-space:pre;overflow-x:auto;line-height:normal;font-family:Menlo,'DejaVu Sans Mono',consolas,'Courier New',monospace\"><span style=\"font-weight: bold\"> Non-trainable params: </span><span style=\"color: #00af00; text-decoration-color: #00af00\">9,239,400</span> (35.25 MB)\n",
       "</pre>\n"
      ]
     },
     "metadata": {},
     "output_type": "display_data"
    }
   ],
   "execution_count": 130
  },
  {
   "metadata": {},
   "cell_type": "markdown",
   "source": "### Train on Test Data",
   "id": "ee6162187b514886"
  },
  {
   "metadata": {},
   "cell_type": "code",
   "outputs": [
    {
     "name": "stdout",
     "output_type": "stream",
     "text": [
      "Epoch 1/10\n",
      "\u001B[1m313/313\u001B[0m \u001B[32m━━━━━━━━━━━━━━━━━━━━\u001B[0m\u001B[37m\u001B[0m \u001B[1m70s\u001B[0m 213ms/step - accuracy: 0.6694 - loss: 0.5905 - val_accuracy: 0.7971 - val_loss: 0.4347\n",
      "Epoch 2/10\n",
      "\u001B[1m313/313\u001B[0m \u001B[32m━━━━━━━━━━━━━━━━━━━━\u001B[0m\u001B[37m\u001B[0m \u001B[1m61s\u001B[0m 196ms/step - accuracy: 0.8192 - loss: 0.4046 - val_accuracy: 0.8321 - val_loss: 0.3730\n",
      "Epoch 3/10\n",
      "\u001B[1m313/313\u001B[0m \u001B[32m━━━━━━━━━━━━━━━━━━━━\u001B[0m\u001B[37m\u001B[0m \u001B[1m59s\u001B[0m 189ms/step - accuracy: 0.8442 - loss: 0.3582 - val_accuracy: 0.8451 - val_loss: 0.3514\n",
      "Epoch 4/10\n",
      "\u001B[1m313/313\u001B[0m \u001B[32m━━━━━━━━━━━━━━━━━━━━\u001B[0m\u001B[37m\u001B[0m \u001B[1m62s\u001B[0m 198ms/step - accuracy: 0.8535 - loss: 0.3406 - val_accuracy: 0.8540 - val_loss: 0.3314\n",
      "Epoch 5/10\n",
      "\u001B[1m313/313\u001B[0m \u001B[32m━━━━━━━━━━━━━━━━━━━━\u001B[0m\u001B[37m\u001B[0m \u001B[1m63s\u001B[0m 202ms/step - accuracy: 0.8680 - loss: 0.3146 - val_accuracy: 0.8585 - val_loss: 0.3258\n",
      "Epoch 6/10\n",
      "\u001B[1m313/313\u001B[0m \u001B[32m━━━━━━━━━━━━━━━━━━━━\u001B[0m\u001B[37m\u001B[0m \u001B[1m63s\u001B[0m 202ms/step - accuracy: 0.8708 - loss: 0.3038 - val_accuracy: 0.8630 - val_loss: 0.3190\n",
      "Epoch 7/10\n",
      "\u001B[1m313/313\u001B[0m \u001B[32m━━━━━━━━━━━━━━━━━━━━\u001B[0m\u001B[37m\u001B[0m \u001B[1m60s\u001B[0m 191ms/step - accuracy: 0.8759 - loss: 0.2995 - val_accuracy: 0.8626 - val_loss: 0.3161\n",
      "Epoch 8/10\n",
      "\u001B[1m313/313\u001B[0m \u001B[32m━━━━━━━━━━━━━━━━━━━━\u001B[0m\u001B[37m\u001B[0m \u001B[1m61s\u001B[0m 195ms/step - accuracy: 0.8843 - loss: 0.2778 - val_accuracy: 0.8577 - val_loss: 0.3306\n",
      "Epoch 9/10\n",
      "\u001B[1m313/313\u001B[0m \u001B[32m━━━━━━━━━━━━━━━━━━━━\u001B[0m\u001B[37m\u001B[0m \u001B[1m61s\u001B[0m 194ms/step - accuracy: 0.8923 - loss: 0.2654 - val_accuracy: 0.8576 - val_loss: 0.3300\n",
      "Epoch 10/10\n",
      "\u001B[1m313/313\u001B[0m \u001B[32m━━━━━━━━━━━━━━━━━━━━\u001B[0m\u001B[37m\u001B[0m \u001B[1m65s\u001B[0m 207ms/step - accuracy: 0.8985 - loss: 0.2487 - val_accuracy: 0.8635 - val_loss: 0.3182\n"
     ]
    }
   ],
   "execution_count": 132,
   "source": "lstm_history=lstm_model.fit(X_train,y_train,verbose=1,validation_data=(X_test,y_test),validation_split=0.2,batch_size=128,epochs=10)",
   "id": "88fd229f19be438e"
  },
  {
   "metadata": {},
   "cell_type": "markdown",
   "source": "### Evaluate on Test Data",
   "id": "b6cecbe5451bead8"
  },
  {
   "metadata": {
    "ExecuteTime": {
     "end_time": "2024-12-02T18:46:35.295947Z",
     "start_time": "2024-12-02T18:46:24.075633Z"
    }
   },
   "cell_type": "code",
   "source": "pred=lstm_model.evaluate(X_test,y_test,verbose=1)",
   "id": "3060c2ba09cb2fa0",
   "outputs": [
    {
     "name": "stdout",
     "output_type": "stream",
     "text": [
      "\u001B[1m313/313\u001B[0m \u001B[32m━━━━━━━━━━━━━━━━━━━━\u001B[0m\u001B[37m\u001B[0m \u001B[1m11s\u001B[0m 35ms/step - accuracy: 0.8630 - loss: 0.3222\n"
     ]
    }
   ],
   "execution_count": 133
  },
  {
   "metadata": {
    "ExecuteTime": {
     "end_time": "2024-12-02T18:47:11.439784Z",
     "start_time": "2024-12-02T18:47:11.429730Z"
    }
   },
   "cell_type": "code",
   "source": [
    "print('Test Accuracy:',pred[1])\n",
    "print('Test Loss:',pred[0])"
   ],
   "id": "3ab9a4285e2b5f4e",
   "outputs": [
    {
     "name": "stdout",
     "output_type": "stream",
     "text": [
      "Test Accuracy: 0.8634999990463257\n",
      "Test Loss: 0.31819114089012146\n"
     ]
    }
   ],
   "execution_count": 134
  },
  {
   "metadata": {
    "ExecuteTime": {
     "end_time": "2024-12-02T18:47:26.378224Z",
     "start_time": "2024-12-02T18:47:26.088205Z"
    }
   },
   "cell_type": "code",
   "source": [
    "plt.plot(lstm_history.history['accuracy'])\n",
    "plt.plot(lstm_history.history['val_accuracy'])\n",
    "plt.xlabel('epochs')\n",
    "plt.ylabel('accuracy')\n",
    "plt.legend(['train','test'])\n",
    "plt.show()"
   ],
   "id": "4411c8788d7955b8",
   "outputs": [
    {
     "data": {
      "text/plain": [
       "<Figure size 640x480 with 1 Axes>"
      ],
      "image/png": "[encoded data removed]"
     },
     "metadata": {},
     "output_type": "display_data"
    }
   ],
   "execution_count": 135
  },
  {
   "metadata": {
    "ExecuteTime": {
     "end_time": "2024-12-02T18:48:17.103192Z",
     "start_time": "2024-12-02T18:48:16.870617Z"
    }
   },
   "cell_type": "code",
   "source": [
    "plt.plot(lstm_history.history['loss'])\n",
    "plt.plot(lstm_history.history['val_loss'])\n",
    "plt.xlabel('epochs')\n",
    "plt.ylabel('accuracy')\n",
    "plt.legend(['train','test'])\n",
    "plt.show()"
   ],
   "id": "6008ce58da4bd508",
   "outputs": [
    {
     "data": {
      "text/plain": [
       "<Figure size 640x480 with 1 Axes>"
      ],
      "image/png": "[encoded data removed]"
     },
     "metadata": {},
     "output_type": "display_data"
    }
   ],
   "execution_count": 136
  },
  {
   "metadata": {
    "ExecuteTime": {
     "end_time": "2024-12-02T18:52:06.180254Z",
     "start_time": "2024-12-02T18:52:06.103624Z"
    }
   },
   "cell_type": "code",
   "source": "lstm_model.save(f\"C:\\\\Users\\Othmane\\Desktop\\BDSaS S3\\Sentiments Analysis\\SentimentsAnalysis\\models\\lstm_model_sentiments_analysis.h5\")",
   "id": "bbf54ddcc22db753",
   "outputs": [
    {
     "name": "stderr",
     "output_type": "stream",
     "text": [
      "WARNING:absl:You are saving your model as an HDF5 file via `model.save()` or `keras.saving.save_model(model)`. This file format is considered legacy. We recommend using instead the native Keras format, e.g. `model.save('my_model.keras')` or `keras.saving.save_model(model, 'my_model.keras')`. \n"
     ]
    }
   ],
   "execution_count": 139
  },
  {
   "metadata": {},
   "cell_type": "markdown",
   "source": [
    "### **Model Training Report**\n",
    "\n",
    "In this project, we trained two models, a Convolutional Neural Network (CNN) and a Long Short-Term Memory (LSTM) network, on our dataset to perform sentiment analysis. Below is a detailed summary of our observations:\n",
    "\n",
    "---\n",
    "\n",
    "#### **1. CNN Model**\n",
    "- **Architecture**: The CNN model utilized an embedding layer, followed by a 1D convolutional layer, global max pooling, and a dense output layer.\n",
    "- **Performance**: \n",
    "  - During training, the CNN model achieved high accuracy on the training set.\n",
    "  - However, we observed significant overfitting, as the performance on the validation set did not improve and started to degrade. This indicates that the model was unable to generalize well to unseen data, potentially due to its reliance on localized patterns in the data.\n",
    "\n",
    "---\n",
    "\n",
    "#### **2. LSTM Model**\n",
    "- **Architecture**: The LSTM model included an embedding layer, followed by an LSTM layer and a dense output layer.\n",
    "- **Performance**: \n",
    "  - The LSTM model demonstrated better generalization compared to the CNN.\n",
    "  - While training and validation performance were closely aligned, it showed lower risk of overfitting due to its ability to capture sequential dependencies and long-term relationships in the data.\n",
    "\n",
    "---\n",
    "\n",
    "#### **Conclusion**\n",
    "Based on these observations, we decided to proceed with the **LSTM model** for predictions, as it handles the sequential nature of the dataset more effectively and avoids the overfitting issue encountered in the CNN model. This choice ensures better performance and generalization to new, unseen data."
   ],
   "id": "c60006385a3387d5"
  },
  {
   "metadata": {},
   "cell_type": "markdown",
   "source": "# Predict Some Reviews",
   "id": "ec5fbb095e117819"
  },
  {
   "metadata": {
    "ExecuteTime": {
     "end_time": "2024-12-02T18:57:09.372372Z",
     "start_time": "2024-12-02T18:57:09.362776Z"
    }
   },
   "cell_type": "code",
   "source": "reviews=pd.read_csv(\"C:\\\\Users\\Othmane\\Desktop\\BDSaS S3\\Sentiments Analysis\\SentimentsAnalysis\\data\\IMDb_Reviews_without_Sentiments.csv\")",
   "id": "169278b1dfa23efc",
   "outputs": [],
   "execution_count": 152
  },
  {
   "metadata": {
    "ExecuteTime": {
     "end_time": "2024-12-02T19:05:38.466421Z",
     "start_time": "2024-12-02T19:05:38.449508Z"
    }
   },
   "cell_type": "code",
   "source": "reviews.head(6)",
   "id": "1fda8f5870780023",
   "outputs": [
    {
     "data": {
      "text/plain": [
       "   Unnamed: 0       Movie  \\\n",
       "0           0  Ex Machina   \n",
       "1           1  Ex Machina   \n",
       "2           2  Ex Machina   \n",
       "3           3  Ex Machina   \n",
       "4           4    Eternals   \n",
       "5           5    Eternals   \n",
       "\n",
       "                                                                                                                                                                                                                                                                                                                                                                                                                                                                                                                                                                                                                                                                                                                                                                                                                                                                                                                                                                                                                                                                                                                                                                                                                                                                                                                                                                                                                                                                                                                                                                                                                                                                                                                                                                                                                                                                                                                                                                                                                                                                                                                                                                                                                                                                                                                                                                                                                                                                                                                                                                                                                                                                                                                                                                                                                                                                                                                                                                                                                                                                                                                                                                                          Review Text  \\\n",
       "0                                                                                                                                                                                                                                                                                                                                                                                                                                                                                                                                                                                                                                                                                                                                                                                                                                                                                                                                                                                                                                                                                                                                                                                                                                                                                                                                                                                   Intelligent Movie.\\nThis movie is obviously allegorical, a fascinating tale about AI, but it is mainly about manipulation and power. It isn't for those wanting action or spectacular CGI, the movie is aimed at people who like to think, rather than passively wait to be entertained. There are themes here not only about AI, but also about surveillance, with excellent points about how data about us is collected by phone companies, search engine companies, commercial operating systems makers and so on. The plot seems simple but isn't, it's extremely clever, with the protagonist playing games, trying to stay one step ahead of one another. This is a movie with perfectly consistent internal logic that plays out perfectly. Don't go in expecting too much, however, as I can see most people will not be satisfied by this movie, but for me, it does what it sets out to do brilliantly. Therefore I give at least 9/10. And most recent movies have been getting 5/10 from me. This movie succeeds where another recent movie about AI, Transcendence, I think it is called, failed (but it was an interesting failure). A third movie about AI, a Spanish movie called Eva, was also brilliant. Eva was more moving and this movie more philosophical. But both movies were perfect in their different ways. The AI's name in this movie, Ava, seems to be a nod to the title of the Spanish movie. As an aside, it's nice that no \"stars\" appeared in \"Ex Machina\" and \"Eva\", the casting was great. Of course there are several aspects of this movie that are unrealistic and often absurd. But because this is an allegorical movie, these are acceptable, because the movie is making points, rather than striving for realism. It's more of a fairytale than accurate portrayal.   \n",
       "1  Extraordinary and thought-provoking.\\n'Ex machina' is surprisingly dense, more so than other titles Alex Garland has written, perhaps excepting only 'Annihilation.' The simple concept is given a definite narrative, but that narrative pointedly explores the very nature of thought, and perception, and further broaching the nature and ramifications of morality. This is a psychological thriller, and in fundamental construction and in minute rendering alike, it is more intense than any other feature in the genre that I can name offhand, so much so as to almost classify as horror. The movie emphasizes and plays on dire uncertainty of intent, motivation, and reality all the way through to the climax, and even then leaves us with a somewhat ambiguous ending. And from ordinary beginning to captivating ending, at every point 'Ex machina' is absolutely marvelous.\\n\\nOf any performance I've seen from Oscar Isaac, none have been nearly so forceful as his portrayal of Nathan, exhibiting outstanding nuance and sharp personality in the realization of a man exceptionally intelligent, and exceptionally cruel and conniving. I'm not especially familiar with Domhnall Gleeson, but the Irish actor demonstrates admirable range and poise readily matching the same traits that are more immediately notable in his costars. And with that said - certainly not to count out anyone else involved - Alicia Vikander is phenomenal as Ava, showing a careful exactness to every motion and expression befitting the character, and impressing with her skills in the most subtle of ways.\\n\\nI love the score composed between Ben Salisbury and Geoff Barrow, lending to the pensive unease about the film and building to a great crescendo at the precise appropriate moments. The sound design is exquisite - soft and unobtrusive, and with those qualities denoting both the meticulous craft of the feature, and the highly advanced status of Ava. So it is, too, with the special effects; to read a little bit of the production history informs of the substantial effort made to ensure every element of Nathan's creation was visualized with the utmost possibility of realism. And I think that endeavor paid off handsomely.\\n\\nThe characters as written are wonderfully complex, and the dialogue deceptively so. Garland's scene writing is impeccable and deeply engrossing, to say nothing of the overall narrative that delves into such heavy subject matter. Even being aware of the acclaim the feature had garnered since its release, I wasn't wholly sure what to expect as I sat to watch. What I got far exceeded anything I had imagined, mostly stepping away significantly from the common story ideas that populate most sci-fi films about artificial intelligence. Garland's screenplay analyzes consciousness with depth, completeness, and potency that I wouldn't have anticipated from a genre picture, and the result is so terrifically engaging as to be exhilarating. Factor in sound performances and excellent music, and 'Ex machina' is a firmly first-rate slice of science fiction that I call a must-see.   \n",
       "2                                                                                                                                                                                                                                                                                                                                                                                                                                                                                                                                                                                                                                                                                                                                                                                                                                                                                                                                                                                                                                                                                                                                                                                                                                                                                                                                                                                                                                                                                                                                                                                                                                                                                                                                   Poor story, only reasonable otherwise.\\nIf I had realised this was by Alex Garland I would not have bothered watching. I remember reading his book the Beach years ago and thinking 'there's something not very nice about this'. At the time I wasn't sure what it was. But now having seen Ex Machina, I have the same feeling. That the story has been chosen simply to appeal to a large audience, in a rather manipulative, unthinking and unfeeling way.\\n\\nI don't normally write bad reviews - of anything. Preferring to focus on the positive. But I so dislike this I felt I had to write something to put people off wasting their time, or assimilating some of this 'nastiness'.\\n\\nIn the case of Ex Machina I can just imagine Garland wondering what he would do for his next project, googling AI and quickly finding the AI Box Experiment. And rather than do the heart- and soul-searching work that would be necessary to produce anything original I imagine him quickly turning somebody else's idea into his next big proposal to present to the film studio.\\n\\nSo an unoriginal idea, presented in a fairly pedestrian way. Lots of images derived from a young person's view of 'sexuality', made me also wonder if this film is rather prejudiced against women?\\n\\nIt is reasonably paced but I found myself yawning a lot - not quite what I would expect from a good thriller.\\n\\nDomhnall Gleeson is OK, does a pretty good job.   \n",
       "3                                                                                                                                                                                                                                                                                                                                                                                                                                                                                                                                                                                                                                                                                                                                                                                                                                                                                                                                                                                                                                                                                                                                                                                                                                                                                                                                                                                                                                                                                                                                                                                                                                                                                                                                                                                                                                                                                                                                                                                                                                                                                                                                                                                                                                                                                                                                                                                                                                          Had Great Potential.\\nThis movie is one of the countless that have come out of Hollywood that had great potential.\\n\\nHowever, like so many personalities in Hollywood, it sold it's soul for a cheap finish.\\n\\nThere were some beautiful ideas in this movie, and it could of been great.\\n\\nHowever, the producers chose to go for the cheap thriller effect, instead of exploring what truly makes us human or machine. Conceived, written, and produced by idiots with now soul.\\n\\nDon't waste your time.\\n\\nThe only redeeming part of this movie was when the dweeb gets sent to the sticks, and is surprised when his smartphone tell him that there was no signal. The producers and writers of this piece of crap obviously had no signal also.   \n",
       "4                                                                                                                                                                                                                                                                                                                                                                                                                                                                                                                                                                                                                                                                                                                                                                                                                                                                                                                                                                                                                                                                                                                                                                                                                                                                                                                                                                                                                                                                                                                                                                                                                                                                                                                                                                                                                                                                                               Amazing visuals and philosophical concepts!\\n\\nNot only is the Eternals a visual masterpiece, the inner challenges each of the eternals face is a great signifier of the MCU moving into a more mature, meaningful phase.\\n\\nWhen you look deeper into the plot and each events significance, and appreciate the detail put into a timeline that spans thousands of years, the low underwhelming ratings seem obviously out of place. And despite the fact that many people loved the MCU as a couple of buff guys and over-sexualised women, the transition the MCU is going through is inevitable, as a franchise that has supported generations, and quite frankly awesome.\\n\\nBesides from the stunning visuals and deep undertones Chloe Zhao certainly packs in enough fight scenes as possibly needed. Each eternal represents a unique power, connected through their source of cosmic energy. This variability allows for exhilarating fight scenes that are arguably more interesting than a couple of punches, kicks and the stray flying weapon. The love stories are quaint and meaningful, and certainly don't take up too much of the run time.\\n\\nOverall, the new age of maturity and deeper concepts seen in this movie is most definitely something to look forward to in Phase 4!   \n",
       "5                                                                                                                                                                                                                                                                                                                                                                                                                                                                                                                                                                                                                                                                                                                                                                                                                                                                                                                                                                                                                                                                                                                                                                                                                                                                                                                                                                                                                                                                                                                                                                                                                                                                                                                                                                                                                                                                                                                                                                                                                                                                                                                                                                                                                                                                                                                                          Worst MCU film ever\\n\\nFollowing the events of Avengers: Endgame (2019), an unexpected tragedy forces the Eternals, ancient aliens who have been living on Earth in secret for thousands of years, out of the shadows to reunite against mankind's most ancient enemy, the Deviants.\\n\\nThis film is by far the worst MCU film I have watch. It's massive insuylt to the comics from the Jack Kirby days. Gender swapping some of the eternals, bad story telling which makes absolutely no sense, unlikeable characters, little to no action and ridicules changes to the MCU just sum up how bad this film. Completely ruined Endgame\\n\\nThe only goods were the music and the CGI for Arishen as well as bonus points for being voiced by David Kaye.\\n\\nOther then that it's just not a good movie makes both Captain Marvel and Iron Man 3 look good.   \n",
       "\n",
       "   IMDb Rating  \n",
       "0            9  \n",
       "1           10  \n",
       "2            3  \n",
       "3            1  \n",
       "4           10  \n",
       "5            3  "
      ],
      "text/html": [
       "<div>\n",
       "<style scoped>\n",
       "    .dataframe tbody tr th:only-of-type {\n",
       "        vertical-align: middle;\n",
       "    }\n",
       "\n",
       "    .dataframe tbody tr th {\n",
       "        vertical-align: top;\n",
       "    }\n",
       "\n",
       "    .dataframe thead th {\n",
       "        text-align: right;\n",
       "    }\n",
       "</style>\n",
       "<table border=\"1\" class=\"dataframe\">\n",
       "  <thead>\n",
       "    <tr style=\"text-align: right;\">\n",
       "      <th></th>\n",
       "      <th>Unnamed: 0</th>\n",
       "      <th>Movie</th>\n",
       "      <th>Review Text</th>\n",
       "      <th>IMDb Rating</th>\n",
       "    </tr>\n",
       "  </thead>\n",
       "  <tbody>\n",
       "    <tr>\n",
       "      <th>0</th>\n",
       "      <td>0</td>\n",
       "      <td>Ex Machina</td>\n",
       "      <td>Intelligent Movie.\\nThis movie is obviously allegorical, a fascinating tale about AI, but it is mainly about manipulation and power. It isn't for those wanting action or spectacular CGI, the movie is aimed at people who like to think, rather than passively wait to be entertained. There are themes here not only about AI, but also about surveillance, with excellent points about how data about us is collected by phone companies, search engine companies, commercial operating systems makers and so on. The plot seems simple but isn't, it's extremely clever, with the protagonist playing games, trying to stay one step ahead of one another. This is a movie with perfectly consistent internal logic that plays out perfectly. Don't go in expecting too much, however, as I can see most people will not be satisfied by this movie, but for me, it does what it sets out to do brilliantly. Therefore I give at least 9/10. And most recent movies have been getting 5/10 from me. This movie succeeds where another recent movie about AI, Transcendence, I think it is called, failed (but it was an interesting failure). A third movie about AI, a Spanish movie called Eva, was also brilliant. Eva was more moving and this movie more philosophical. But both movies were perfect in their different ways. The AI's name in this movie, Ava, seems to be a nod to the title of the Spanish movie. As an aside, it's nice that no \"stars\" appeared in \"Ex Machina\" and \"Eva\", the casting was great. Of course there are several aspects of this movie that are unrealistic and often absurd. But because this is an allegorical movie, these are acceptable, because the movie is making points, rather than striving for realism. It's more of a fairytale than accurate portrayal.</td>\n",
       "      <td>9</td>\n",
       "    </tr>\n",
       "    <tr>\n",
       "      <th>1</th>\n",
       "      <td>1</td>\n",
       "      <td>Ex Machina</td>\n",
       "      <td>Extraordinary and thought-provoking.\\n'Ex machina' is surprisingly dense, more so than other titles Alex Garland has written, perhaps excepting only 'Annihilation.' The simple concept is given a definite narrative, but that narrative pointedly explores the very nature of thought, and perception, and further broaching the nature and ramifications of morality. This is a psychological thriller, and in fundamental construction and in minute rendering alike, it is more intense than any other feature in the genre that I can name offhand, so much so as to almost classify as horror. The movie emphasizes and plays on dire uncertainty of intent, motivation, and reality all the way through to the climax, and even then leaves us with a somewhat ambiguous ending. And from ordinary beginning to captivating ending, at every point 'Ex machina' is absolutely marvelous.\\n\\nOf any performance I've seen from Oscar Isaac, none have been nearly so forceful as his portrayal of Nathan, exhibiting outstanding nuance and sharp personality in the realization of a man exceptionally intelligent, and exceptionally cruel and conniving. I'm not especially familiar with Domhnall Gleeson, but the Irish actor demonstrates admirable range and poise readily matching the same traits that are more immediately notable in his costars. And with that said - certainly not to count out anyone else involved - Alicia Vikander is phenomenal as Ava, showing a careful exactness to every motion and expression befitting the character, and impressing with her skills in the most subtle of ways.\\n\\nI love the score composed between Ben Salisbury and Geoff Barrow, lending to the pensive unease about the film and building to a great crescendo at the precise appropriate moments. The sound design is exquisite - soft and unobtrusive, and with those qualities denoting both the meticulous craft of the feature, and the highly advanced status of Ava. So it is, too, with the special effects; to read a little bit of the production history informs of the substantial effort made to ensure every element of Nathan's creation was visualized with the utmost possibility of realism. And I think that endeavor paid off handsomely.\\n\\nThe characters as written are wonderfully complex, and the dialogue deceptively so. Garland's scene writing is impeccable and deeply engrossing, to say nothing of the overall narrative that delves into such heavy subject matter. Even being aware of the acclaim the feature had garnered since its release, I wasn't wholly sure what to expect as I sat to watch. What I got far exceeded anything I had imagined, mostly stepping away significantly from the common story ideas that populate most sci-fi films about artificial intelligence. Garland's screenplay analyzes consciousness with depth, completeness, and potency that I wouldn't have anticipated from a genre picture, and the result is so terrifically engaging as to be exhilarating. Factor in sound performances and excellent music, and 'Ex machina' is a firmly first-rate slice of science fiction that I call a must-see.</td>\n",
       "      <td>10</td>\n",
       "    </tr>\n",
       "    <tr>\n",
       "      <th>2</th>\n",
       "      <td>2</td>\n",
       "      <td>Ex Machina</td>\n",
       "      <td>Poor story, only reasonable otherwise.\\nIf I had realised this was by Alex Garland I would not have bothered watching. I remember reading his book the Beach years ago and thinking 'there's something not very nice about this'. At the time I wasn't sure what it was. But now having seen Ex Machina, I have the same feeling. That the story has been chosen simply to appeal to a large audience, in a rather manipulative, unthinking and unfeeling way.\\n\\nI don't normally write bad reviews - of anything. Preferring to focus on the positive. But I so dislike this I felt I had to write something to put people off wasting their time, or assimilating some of this 'nastiness'.\\n\\nIn the case of Ex Machina I can just imagine Garland wondering what he would do for his next project, googling AI and quickly finding the AI Box Experiment. And rather than do the heart- and soul-searching work that would be necessary to produce anything original I imagine him quickly turning somebody else's idea into his next big proposal to present to the film studio.\\n\\nSo an unoriginal idea, presented in a fairly pedestrian way. Lots of images derived from a young person's view of 'sexuality', made me also wonder if this film is rather prejudiced against women?\\n\\nIt is reasonably paced but I found myself yawning a lot - not quite what I would expect from a good thriller.\\n\\nDomhnall Gleeson is OK, does a pretty good job.</td>\n",
       "      <td>3</td>\n",
       "    </tr>\n",
       "    <tr>\n",
       "      <th>3</th>\n",
       "      <td>3</td>\n",
       "      <td>Ex Machina</td>\n",
       "      <td>Had Great Potential.\\nThis movie is one of the countless that have come out of Hollywood that had great potential.\\n\\nHowever, like so many personalities in Hollywood, it sold it's soul for a cheap finish.\\n\\nThere were some beautiful ideas in this movie, and it could of been great.\\n\\nHowever, the producers chose to go for the cheap thriller effect, instead of exploring what truly makes us human or machine. Conceived, written, and produced by idiots with now soul.\\n\\nDon't waste your time.\\n\\nThe only redeeming part of this movie was when the dweeb gets sent to the sticks, and is surprised when his smartphone tell him that there was no signal. The producers and writers of this piece of crap obviously had no signal also.</td>\n",
       "      <td>1</td>\n",
       "    </tr>\n",
       "    <tr>\n",
       "      <th>4</th>\n",
       "      <td>4</td>\n",
       "      <td>Eternals</td>\n",
       "      <td>Amazing visuals and philosophical concepts!\\n\\nNot only is the Eternals a visual masterpiece, the inner challenges each of the eternals face is a great signifier of the MCU moving into a more mature, meaningful phase.\\n\\nWhen you look deeper into the plot and each events significance, and appreciate the detail put into a timeline that spans thousands of years, the low underwhelming ratings seem obviously out of place. And despite the fact that many people loved the MCU as a couple of buff guys and over-sexualised women, the transition the MCU is going through is inevitable, as a franchise that has supported generations, and quite frankly awesome.\\n\\nBesides from the stunning visuals and deep undertones Chloe Zhao certainly packs in enough fight scenes as possibly needed. Each eternal represents a unique power, connected through their source of cosmic energy. This variability allows for exhilarating fight scenes that are arguably more interesting than a couple of punches, kicks and the stray flying weapon. The love stories are quaint and meaningful, and certainly don't take up too much of the run time.\\n\\nOverall, the new age of maturity and deeper concepts seen in this movie is most definitely something to look forward to in Phase 4!</td>\n",
       "      <td>10</td>\n",
       "    </tr>\n",
       "    <tr>\n",
       "      <th>5</th>\n",
       "      <td>5</td>\n",
       "      <td>Eternals</td>\n",
       "      <td>Worst MCU film ever\\n\\nFollowing the events of Avengers: Endgame (2019), an unexpected tragedy forces the Eternals, ancient aliens who have been living on Earth in secret for thousands of years, out of the shadows to reunite against mankind's most ancient enemy, the Deviants.\\n\\nThis film is by far the worst MCU film I have watch. It's massive insuylt to the comics from the Jack Kirby days. Gender swapping some of the eternals, bad story telling which makes absolutely no sense, unlikeable characters, little to no action and ridicules changes to the MCU just sum up how bad this film. Completely ruined Endgame\\n\\nThe only goods were the music and the CGI for Arishen as well as bonus points for being voiced by David Kaye.\\n\\nOther then that it's just not a good movie makes both Captain Marvel and Iron Man 3 look good.</td>\n",
       "      <td>3</td>\n",
       "    </tr>\n",
       "  </tbody>\n",
       "</table>\n",
       "</div>"
      ]
     },
     "execution_count": 163,
     "metadata": {},
     "output_type": "execute_result"
    }
   ],
   "execution_count": 163
  },
  {
   "metadata": {
    "ExecuteTime": {
     "end_time": "2024-12-02T18:56:31.141572Z",
     "start_time": "2024-12-02T18:56:31.131917Z"
    }
   },
   "cell_type": "code",
   "source": "reviews.shape",
   "id": "912a9a9359f9b616",
   "outputs": [
    {
     "data": {
      "text/plain": [
       "(6, 4)"
      ]
     },
     "execution_count": 148,
     "metadata": {},
     "output_type": "execute_result"
    }
   ],
   "execution_count": 148
  },
  {
   "metadata": {
    "ExecuteTime": {
     "end_time": "2024-12-02T19:00:12.718969Z",
     "start_time": "2024-12-02T19:00:12.693577Z"
    }
   },
   "cell_type": "code",
   "source": [
    "reviews_text=reviews['Review Text']\n",
    "reviews_preprocessed=[]\n",
    "for review in reviews_text:\n",
    "    review=preprocess(review)\n",
    "    reviews_preprocessed.append(review)\n",
    "    "
   ],
   "id": "f54c20dc80684665",
   "outputs": [],
   "execution_count": 154
  },
  {
   "metadata": {
    "ExecuteTime": {
     "end_time": "2024-12-02T19:01:54.662937Z",
     "start_time": "2024-12-02T19:01:54.657986Z"
    }
   },
   "cell_type": "code",
   "source": "reviews_tokenized=word_tokenizer.texts_to_sequences(reviews_preprocessed)",
   "id": "1edfce1e9554719d",
   "outputs": [],
   "execution_count": 156
  },
  {
   "metadata": {
    "ExecuteTime": {
     "end_time": "2024-12-02T19:02:57.663920Z",
     "start_time": "2024-12-02T19:02:57.648560Z"
    }
   },
   "cell_type": "code",
   "source": "reviews_tokenized[1]",
   "id": "9aae685672fa2485",
   "outputs": [
    {
     "data": {
      "text/plain": [
       "[2273,\n",
       " 87,\n",
       " 2421,\n",
       " 1040,\n",
       " 14943,\n",
       " 1090,\n",
       " 10378,\n",
       " 2494,\n",
       " 1850,\n",
       " 5915,\n",
       " 281,\n",
       " 262,\n",
       " 23889,\n",
       " 22535,\n",
       " 463,\n",
       " 978,\n",
       " 238,\n",
       " 3479,\n",
       " 1189,\n",
       " 1189,\n",
       " 25409,\n",
       " 5280,\n",
       " 743,\n",
       " 87,\n",
       " 6325,\n",
       " 86112,\n",
       " 743,\n",
       " 17802,\n",
       " 3702,\n",
       " 1842,\n",
       " 556,\n",
       " 8178,\n",
       " 4576,\n",
       " 643,\n",
       " 7060,\n",
       " 3071,\n",
       " 1350,\n",
       " 636,\n",
       " 382,\n",
       " 261,\n",
       " 23467,\n",
       " 13,\n",
       " 108,\n",
       " 13083,\n",
       " 80,\n",
       " 1,\n",
       " 17003,\n",
       " 191,\n",
       " 3809,\n",
       " 10219,\n",
       " 3303,\n",
       " 3133,\n",
       " 491,\n",
       " 23,\n",
       " 1204,\n",
       " 7,\n",
       " 750,\n",
       " 76,\n",
       " 528,\n",
       " 5081,\n",
       " 154,\n",
       " 1698,\n",
       " 328,\n",
       " 3928,\n",
       " 154,\n",
       " 72,\n",
       " 109,\n",
       " 1040,\n",
       " 14943,\n",
       " 301,\n",
       " 3082,\n",
       " 129,\n",
       " 30,\n",
       " 664,\n",
       " 13617,\n",
       " 486,\n",
       " 649,\n",
       " 18339,\n",
       " 937,\n",
       " 6730,\n",
       " 21297,\n",
       " 1227,\n",
       " 8614,\n",
       " 2196,\n",
       " 1478,\n",
       " 5756,\n",
       " 43,\n",
       " 4741,\n",
       " 925,\n",
       " 4741,\n",
       " 2210,\n",
       " 8766,\n",
       " 149,\n",
       " 919,\n",
       " 22318,\n",
       " 2374,\n",
       " 168,\n",
       " 5072,\n",
       " 5765,\n",
       " 1858,\n",
       " 27237,\n",
       " 7227,\n",
       " 9940,\n",
       " 5611,\n",
       " 1049,\n",
       " 2761,\n",
       " 24288,\n",
       " 190,\n",
       " 298,\n",
       " 1332,\n",
       " 136,\n",
       " 209,\n",
       " 442,\n",
       " 7891,\n",
       " 5671,\n",
       " 12806,\n",
       " 623,\n",
       " 3996,\n",
       " 72,\n",
       " 1149,\n",
       " 2443,\n",
       " 19362,\n",
       " 28,\n",
       " 14513,\n",
       " 1884,\n",
       " 1125,\n",
       " 624,\n",
       " 35,\n",
       " 428,\n",
       " 3948,\n",
       " 1021,\n",
       " 44870,\n",
       " 19793,\n",
       " 42677,\n",
       " 17382,\n",
       " 19255,\n",
       " 14277,\n",
       " 2,\n",
       " 1179,\n",
       " 17,\n",
       " 21253,\n",
       " 7001,\n",
       " 2208,\n",
       " 265,\n",
       " 313,\n",
       " 1523,\n",
       " 5769,\n",
       " 1550,\n",
       " 17006,\n",
       " 2140,\n",
       " 74545,\n",
       " 13878,\n",
       " 3575,\n",
       " 636,\n",
       " 405,\n",
       " 4808,\n",
       " 2521,\n",
       " 12806,\n",
       " 184,\n",
       " 167,\n",
       " 220,\n",
       " 41,\n",
       " 121,\n",
       " 234,\n",
       " 352,\n",
       " 8844,\n",
       " 6752,\n",
       " 630,\n",
       " 20,\n",
       " 6507,\n",
       " 72,\n",
       " 1400,\n",
       " 6730,\n",
       " 2885,\n",
       " 24074,\n",
       " 10547,\n",
       " 3633,\n",
       " 1645,\n",
       " 25,\n",
       " 11701,\n",
       " 1335,\n",
       " 19425,\n",
       " 26,\n",
       " 281,\n",
       " 1574,\n",
       " 1143,\n",
       " 288,\n",
       " 13706,\n",
       " 5915,\n",
       " 46,\n",
       " 356,\n",
       " 7483,\n",
       " 1594,\n",
       " 5291,\n",
       " 48,\n",
       " 66,\n",
       " 322,\n",
       " 1189,\n",
       " 10076,\n",
       " 1121,\n",
       " 609,\n",
       " 365,\n",
       " 7,\n",
       " 1710,\n",
       " 8422,\n",
       " 636,\n",
       " 9825,\n",
       " 125,\n",
       " 604,\n",
       " 5314,\n",
       " 139,\n",
       " 387,\n",
       " 1623,\n",
       " 27,\n",
       " 86,\n",
       " 116,\n",
       " 10174,\n",
       " 123,\n",
       " 3709,\n",
       " 539,\n",
       " 8938,\n",
       " 130,\n",
       " 8072,\n",
       " 958,\n",
       " 9,\n",
       " 863,\n",
       " 13650,\n",
       " 699,\n",
       " 692,\n",
       " 29,\n",
       " 4716,\n",
       " 1583,\n",
       " 5915,\n",
       " 771,\n",
       " 33051,\n",
       " 5853,\n",
       " 968,\n",
       " 30802,\n",
       " 27471,\n",
       " 7237,\n",
       " 382,\n",
       " 314,\n",
       " 792,\n",
       " 13216,\n",
       " 1622,\n",
       " 10662,\n",
       " 2044,\n",
       " 313,\n",
       " 244,\n",
       " 199,\n",
       " 100,\n",
       " 1040,\n",
       " 14943,\n",
       " 5245,\n",
       " 19,\n",
       " 808,\n",
       " 4902,\n",
       " 922,\n",
       " 1023,\n",
       " 522,\n",
       " 96,\n",
       " 11]"
      ]
     },
     "execution_count": 159,
     "metadata": {},
     "output_type": "execute_result"
    }
   ],
   "execution_count": 159
  },
  {
   "metadata": {},
   "cell_type": "code",
   "outputs": [],
   "execution_count": 157,
   "source": "reviews_padding=pad_sequences(reviews_tokenized,padding='post',maxlen=100)",
   "id": "20ea7829139c3ee7"
  },
  {
   "metadata": {
    "ExecuteTime": {
     "end_time": "2024-12-02T19:03:17.196598Z",
     "start_time": "2024-12-02T19:03:17.188364Z"
    }
   },
   "cell_type": "code",
   "source": "reviews_padding[1]",
   "id": "7aaa45a9153c5405",
   "outputs": [
    {
     "data": {
      "text/plain": [
       "array([  121,   234,   352,  8844,  6752,   630,    20,  6507,    72,\n",
       "        1400,  6730,  2885, 24074, 10547,  3633,  1645,    25, 11701,\n",
       "        1335, 19425,    26,   281,  1574,  1143,   288, 13706,  5915,\n",
       "          46,   356,  7483,  1594,  5291,    48,    66,   322,  1189,\n",
       "       10076,  1121,   609,   365,     7,  1710,  8422,   636,  9825,\n",
       "         125,   604,  5314,   139,   387,  1623,    27,    86,   116,\n",
       "       10174,   123,  3709,   539,  8938,   130,  8072,   958,     9,\n",
       "         863, 13650,   699,   692,    29,  4716,  1583,  5915,   771,\n",
       "       33051,  5853,   968, 30802, 27471,  7237,   382,   314,   792,\n",
       "       13216,  1622, 10662,  2044,   313,   244,   199,   100,  1040,\n",
       "       14943,  5245,    19,   808,  4902,   922,  1023,   522,    96,\n",
       "          11])"
      ]
     },
     "execution_count": 160,
     "metadata": {},
     "output_type": "execute_result"
    }
   ],
   "execution_count": 160
  },
  {
   "metadata": {
    "ExecuteTime": {
     "end_time": "2024-12-02T19:04:25.275445Z",
     "start_time": "2024-12-02T19:04:23.685698Z"
    }
   },
   "cell_type": "code",
   "source": "sentiment=lstm_model.predict(reviews_padding)",
   "id": "a523ad8cf685904a",
   "outputs": [
    {
     "name": "stdout",
     "output_type": "stream",
     "text": [
      "\u001B[1m1/1\u001B[0m \u001B[32m━━━━━━━━━━━━━━━━━━━━\u001B[0m\u001B[37m\u001B[0m \u001B[1m1s\u001B[0m 1s/step\n"
     ]
    }
   ],
   "execution_count": 161
  },
  {
   "metadata": {
    "ExecuteTime": {
     "end_time": "2024-12-02T19:08:57.549908Z",
     "start_time": "2024-12-02T19:08:57.543156Z"
    }
   },
   "cell_type": "code",
   "source": "sentiment",
   "id": "23e86aacf5c32afc",
   "outputs": [
    {
     "data": {
      "text/plain": [
       "array([[0.9761044 ],\n",
       "       [0.9960453 ],\n",
       "       [0.1434015 ],\n",
       "       [0.07679168],\n",
       "       [0.9943406 ],\n",
       "       [0.01891654]], dtype=float32)"
      ]
     },
     "execution_count": 166,
     "metadata": {},
     "output_type": "execute_result"
    }
   ],
   "execution_count": 166
  },
  {
   "metadata": {
    "ExecuteTime": {
     "end_time": "2024-12-02T19:11:44.562921Z",
     "start_time": "2024-12-02T19:11:44.552305Z"
    }
   },
   "cell_type": "code",
   "source": "reviews['Predicted Sentiments']= ['positive' if v > 0.5 else 'negative' for v in sentiment]",
   "id": "2a55bf07bb4a3e10",
   "outputs": [],
   "execution_count": 167
  },
  {
   "metadata": {
    "ExecuteTime": {
     "end_time": "2024-12-02T19:11:53.511905Z",
     "start_time": "2024-12-02T19:11:53.493899Z"
    }
   },
   "cell_type": "code",
   "source": "reviews.head(6)",
   "id": "80d4f9f16f130748",
   "outputs": [
    {
     "data": {
      "text/plain": [
       "   Unnamed: 0       Movie  \\\n",
       "0           0  Ex Machina   \n",
       "1           1  Ex Machina   \n",
       "2           2  Ex Machina   \n",
       "3           3  Ex Machina   \n",
       "4           4    Eternals   \n",
       "5           5    Eternals   \n",
       "\n",
       "                                                                                                                                                                                                                                                                                                                                                                                                                                                                                                                                                                                                                                                                                                                                                                                                                                                                                                                                                                                                                                                                                                                                                                                                                                                                                                                                                                                                                                                                                                                                                                                                                                                                                                                                                                                                                                                                                                                                                                                                                                                                                                                                                                                                                                                                                                                                                                                                                                                                                                                                                                                                                                                                                                                                                                                                                                                                                                                                                                                                                                                                                                                                                                                          Review Text  \\\n",
       "0                                                                                                                                                                                                                                                                                                                                                                                                                                                                                                                                                                                                                                                                                                                                                                                                                                                                                                                                                                                                                                                                                                                                                                                                                                                                                                                                                                                   Intelligent Movie.\\nThis movie is obviously allegorical, a fascinating tale about AI, but it is mainly about manipulation and power. It isn't for those wanting action or spectacular CGI, the movie is aimed at people who like to think, rather than passively wait to be entertained. There are themes here not only about AI, but also about surveillance, with excellent points about how data about us is collected by phone companies, search engine companies, commercial operating systems makers and so on. The plot seems simple but isn't, it's extremely clever, with the protagonist playing games, trying to stay one step ahead of one another. This is a movie with perfectly consistent internal logic that plays out perfectly. Don't go in expecting too much, however, as I can see most people will not be satisfied by this movie, but for me, it does what it sets out to do brilliantly. Therefore I give at least 9/10. And most recent movies have been getting 5/10 from me. This movie succeeds where another recent movie about AI, Transcendence, I think it is called, failed (but it was an interesting failure). A third movie about AI, a Spanish movie called Eva, was also brilliant. Eva was more moving and this movie more philosophical. But both movies were perfect in their different ways. The AI's name in this movie, Ava, seems to be a nod to the title of the Spanish movie. As an aside, it's nice that no \"stars\" appeared in \"Ex Machina\" and \"Eva\", the casting was great. Of course there are several aspects of this movie that are unrealistic and often absurd. But because this is an allegorical movie, these are acceptable, because the movie is making points, rather than striving for realism. It's more of a fairytale than accurate portrayal.   \n",
       "1  Extraordinary and thought-provoking.\\n'Ex machina' is surprisingly dense, more so than other titles Alex Garland has written, perhaps excepting only 'Annihilation.' The simple concept is given a definite narrative, but that narrative pointedly explores the very nature of thought, and perception, and further broaching the nature and ramifications of morality. This is a psychological thriller, and in fundamental construction and in minute rendering alike, it is more intense than any other feature in the genre that I can name offhand, so much so as to almost classify as horror. The movie emphasizes and plays on dire uncertainty of intent, motivation, and reality all the way through to the climax, and even then leaves us with a somewhat ambiguous ending. And from ordinary beginning to captivating ending, at every point 'Ex machina' is absolutely marvelous.\\n\\nOf any performance I've seen from Oscar Isaac, none have been nearly so forceful as his portrayal of Nathan, exhibiting outstanding nuance and sharp personality in the realization of a man exceptionally intelligent, and exceptionally cruel and conniving. I'm not especially familiar with Domhnall Gleeson, but the Irish actor demonstrates admirable range and poise readily matching the same traits that are more immediately notable in his costars. And with that said - certainly not to count out anyone else involved - Alicia Vikander is phenomenal as Ava, showing a careful exactness to every motion and expression befitting the character, and impressing with her skills in the most subtle of ways.\\n\\nI love the score composed between Ben Salisbury and Geoff Barrow, lending to the pensive unease about the film and building to a great crescendo at the precise appropriate moments. The sound design is exquisite - soft and unobtrusive, and with those qualities denoting both the meticulous craft of the feature, and the highly advanced status of Ava. So it is, too, with the special effects; to read a little bit of the production history informs of the substantial effort made to ensure every element of Nathan's creation was visualized with the utmost possibility of realism. And I think that endeavor paid off handsomely.\\n\\nThe characters as written are wonderfully complex, and the dialogue deceptively so. Garland's scene writing is impeccable and deeply engrossing, to say nothing of the overall narrative that delves into such heavy subject matter. Even being aware of the acclaim the feature had garnered since its release, I wasn't wholly sure what to expect as I sat to watch. What I got far exceeded anything I had imagined, mostly stepping away significantly from the common story ideas that populate most sci-fi films about artificial intelligence. Garland's screenplay analyzes consciousness with depth, completeness, and potency that I wouldn't have anticipated from a genre picture, and the result is so terrifically engaging as to be exhilarating. Factor in sound performances and excellent music, and 'Ex machina' is a firmly first-rate slice of science fiction that I call a must-see.   \n",
       "2                                                                                                                                                                                                                                                                                                                                                                                                                                                                                                                                                                                                                                                                                                                                                                                                                                                                                                                                                                                                                                                                                                                                                                                                                                                                                                                                                                                                                                                                                                                                                                                                                                                                                                                                   Poor story, only reasonable otherwise.\\nIf I had realised this was by Alex Garland I would not have bothered watching. I remember reading his book the Beach years ago and thinking 'there's something not very nice about this'. At the time I wasn't sure what it was. But now having seen Ex Machina, I have the same feeling. That the story has been chosen simply to appeal to a large audience, in a rather manipulative, unthinking and unfeeling way.\\n\\nI don't normally write bad reviews - of anything. Preferring to focus on the positive. But I so dislike this I felt I had to write something to put people off wasting their time, or assimilating some of this 'nastiness'.\\n\\nIn the case of Ex Machina I can just imagine Garland wondering what he would do for his next project, googling AI and quickly finding the AI Box Experiment. And rather than do the heart- and soul-searching work that would be necessary to produce anything original I imagine him quickly turning somebody else's idea into his next big proposal to present to the film studio.\\n\\nSo an unoriginal idea, presented in a fairly pedestrian way. Lots of images derived from a young person's view of 'sexuality', made me also wonder if this film is rather prejudiced against women?\\n\\nIt is reasonably paced but I found myself yawning a lot - not quite what I would expect from a good thriller.\\n\\nDomhnall Gleeson is OK, does a pretty good job.   \n",
       "3                                                                                                                                                                                                                                                                                                                                                                                                                                                                                                                                                                                                                                                                                                                                                                                                                                                                                                                                                                                                                                                                                                                                                                                                                                                                                                                                                                                                                                                                                                                                                                                                                                                                                                                                                                                                                                                                                                                                                                                                                                                                                                                                                                                                                                                                                                                                                                                                                                          Had Great Potential.\\nThis movie is one of the countless that have come out of Hollywood that had great potential.\\n\\nHowever, like so many personalities in Hollywood, it sold it's soul for a cheap finish.\\n\\nThere were some beautiful ideas in this movie, and it could of been great.\\n\\nHowever, the producers chose to go for the cheap thriller effect, instead of exploring what truly makes us human or machine. Conceived, written, and produced by idiots with now soul.\\n\\nDon't waste your time.\\n\\nThe only redeeming part of this movie was when the dweeb gets sent to the sticks, and is surprised when his smartphone tell him that there was no signal. The producers and writers of this piece of crap obviously had no signal also.   \n",
       "4                                                                                                                                                                                                                                                                                                                                                                                                                                                                                                                                                                                                                                                                                                                                                                                                                                                                                                                                                                                                                                                                                                                                                                                                                                                                                                                                                                                                                                                                                                                                                                                                                                                                                                                                                                                                                                                                                               Amazing visuals and philosophical concepts!\\n\\nNot only is the Eternals a visual masterpiece, the inner challenges each of the eternals face is a great signifier of the MCU moving into a more mature, meaningful phase.\\n\\nWhen you look deeper into the plot and each events significance, and appreciate the detail put into a timeline that spans thousands of years, the low underwhelming ratings seem obviously out of place. And despite the fact that many people loved the MCU as a couple of buff guys and over-sexualised women, the transition the MCU is going through is inevitable, as a franchise that has supported generations, and quite frankly awesome.\\n\\nBesides from the stunning visuals and deep undertones Chloe Zhao certainly packs in enough fight scenes as possibly needed. Each eternal represents a unique power, connected through their source of cosmic energy. This variability allows for exhilarating fight scenes that are arguably more interesting than a couple of punches, kicks and the stray flying weapon. The love stories are quaint and meaningful, and certainly don't take up too much of the run time.\\n\\nOverall, the new age of maturity and deeper concepts seen in this movie is most definitely something to look forward to in Phase 4!   \n",
       "5                                                                                                                                                                                                                                                                                                                                                                                                                                                                                                                                                                                                                                                                                                                                                                                                                                                                                                                                                                                                                                                                                                                                                                                                                                                                                                                                                                                                                                                                                                                                                                                                                                                                                                                                                                                                                                                                                                                                                                                                                                                                                                                                                                                                                                                                                                                                          Worst MCU film ever\\n\\nFollowing the events of Avengers: Endgame (2019), an unexpected tragedy forces the Eternals, ancient aliens who have been living on Earth in secret for thousands of years, out of the shadows to reunite against mankind's most ancient enemy, the Deviants.\\n\\nThis film is by far the worst MCU film I have watch. It's massive insuylt to the comics from the Jack Kirby days. Gender swapping some of the eternals, bad story telling which makes absolutely no sense, unlikeable characters, little to no action and ridicules changes to the MCU just sum up how bad this film. Completely ruined Endgame\\n\\nThe only goods were the music and the CGI for Arishen as well as bonus points for being voiced by David Kaye.\\n\\nOther then that it's just not a good movie makes both Captain Marvel and Iron Man 3 look good.   \n",
       "\n",
       "   IMDb Rating Predicted Sentiments  \n",
       "0            9             positive  \n",
       "1           10             positive  \n",
       "2            3             negative  \n",
       "3            1             negative  \n",
       "4           10             positive  \n",
       "5            3             negative  "
      ],
      "text/html": [
       "<div>\n",
       "<style scoped>\n",
       "    .dataframe tbody tr th:only-of-type {\n",
       "        vertical-align: middle;\n",
       "    }\n",
       "\n",
       "    .dataframe tbody tr th {\n",
       "        vertical-align: top;\n",
       "    }\n",
       "\n",
       "    .dataframe thead th {\n",
       "        text-align: right;\n",
       "    }\n",
       "</style>\n",
       "<table border=\"1\" class=\"dataframe\">\n",
       "  <thead>\n",
       "    <tr style=\"text-align: right;\">\n",
       "      <th></th>\n",
       "      <th>Unnamed: 0</th>\n",
       "      <th>Movie</th>\n",
       "      <th>Review Text</th>\n",
       "      <th>IMDb Rating</th>\n",
       "      <th>Predicted Sentiments</th>\n",
       "    </tr>\n",
       "  </thead>\n",
       "  <tbody>\n",
       "    <tr>\n",
       "      <th>0</th>\n",
       "      <td>0</td>\n",
       "      <td>Ex Machina</td>\n",
       "      <td>Intelligent Movie.\\nThis movie is obviously allegorical, a fascinating tale about AI, but it is mainly about manipulation and power. It isn't for those wanting action or spectacular CGI, the movie is aimed at people who like to think, rather than passively wait to be entertained. There are themes here not only about AI, but also about surveillance, with excellent points about how data about us is collected by phone companies, search engine companies, commercial operating systems makers and so on. The plot seems simple but isn't, it's extremely clever, with the protagonist playing games, trying to stay one step ahead of one another. This is a movie with perfectly consistent internal logic that plays out perfectly. Don't go in expecting too much, however, as I can see most people will not be satisfied by this movie, but for me, it does what it sets out to do brilliantly. Therefore I give at least 9/10. And most recent movies have been getting 5/10 from me. This movie succeeds where another recent movie about AI, Transcendence, I think it is called, failed (but it was an interesting failure). A third movie about AI, a Spanish movie called Eva, was also brilliant. Eva was more moving and this movie more philosophical. But both movies were perfect in their different ways. The AI's name in this movie, Ava, seems to be a nod to the title of the Spanish movie. As an aside, it's nice that no \"stars\" appeared in \"Ex Machina\" and \"Eva\", the casting was great. Of course there are several aspects of this movie that are unrealistic and often absurd. But because this is an allegorical movie, these are acceptable, because the movie is making points, rather than striving for realism. It's more of a fairytale than accurate portrayal.</td>\n",
       "      <td>9</td>\n",
       "      <td>positive</td>\n",
       "    </tr>\n",
       "    <tr>\n",
       "      <th>1</th>\n",
       "      <td>1</td>\n",
       "      <td>Ex Machina</td>\n",
       "      <td>Extraordinary and thought-provoking.\\n'Ex machina' is surprisingly dense, more so than other titles Alex Garland has written, perhaps excepting only 'Annihilation.' The simple concept is given a definite narrative, but that narrative pointedly explores the very nature of thought, and perception, and further broaching the nature and ramifications of morality. This is a psychological thriller, and in fundamental construction and in minute rendering alike, it is more intense than any other feature in the genre that I can name offhand, so much so as to almost classify as horror. The movie emphasizes and plays on dire uncertainty of intent, motivation, and reality all the way through to the climax, and even then leaves us with a somewhat ambiguous ending. And from ordinary beginning to captivating ending, at every point 'Ex machina' is absolutely marvelous.\\n\\nOf any performance I've seen from Oscar Isaac, none have been nearly so forceful as his portrayal of Nathan, exhibiting outstanding nuance and sharp personality in the realization of a man exceptionally intelligent, and exceptionally cruel and conniving. I'm not especially familiar with Domhnall Gleeson, but the Irish actor demonstrates admirable range and poise readily matching the same traits that are more immediately notable in his costars. And with that said - certainly not to count out anyone else involved - Alicia Vikander is phenomenal as Ava, showing a careful exactness to every motion and expression befitting the character, and impressing with her skills in the most subtle of ways.\\n\\nI love the score composed between Ben Salisbury and Geoff Barrow, lending to the pensive unease about the film and building to a great crescendo at the precise appropriate moments. The sound design is exquisite - soft and unobtrusive, and with those qualities denoting both the meticulous craft of the feature, and the highly advanced status of Ava. So it is, too, with the special effects; to read a little bit of the production history informs of the substantial effort made to ensure every element of Nathan's creation was visualized with the utmost possibility of realism. And I think that endeavor paid off handsomely.\\n\\nThe characters as written are wonderfully complex, and the dialogue deceptively so. Garland's scene writing is impeccable and deeply engrossing, to say nothing of the overall narrative that delves into such heavy subject matter. Even being aware of the acclaim the feature had garnered since its release, I wasn't wholly sure what to expect as I sat to watch. What I got far exceeded anything I had imagined, mostly stepping away significantly from the common story ideas that populate most sci-fi films about artificial intelligence. Garland's screenplay analyzes consciousness with depth, completeness, and potency that I wouldn't have anticipated from a genre picture, and the result is so terrifically engaging as to be exhilarating. Factor in sound performances and excellent music, and 'Ex machina' is a firmly first-rate slice of science fiction that I call a must-see.</td>\n",
       "      <td>10</td>\n",
       "      <td>positive</td>\n",
       "    </tr>\n",
       "    <tr>\n",
       "      <th>2</th>\n",
       "      <td>2</td>\n",
       "      <td>Ex Machina</td>\n",
       "      <td>Poor story, only reasonable otherwise.\\nIf I had realised this was by Alex Garland I would not have bothered watching. I remember reading his book the Beach years ago and thinking 'there's something not very nice about this'. At the time I wasn't sure what it was. But now having seen Ex Machina, I have the same feeling. That the story has been chosen simply to appeal to a large audience, in a rather manipulative, unthinking and unfeeling way.\\n\\nI don't normally write bad reviews - of anything. Preferring to focus on the positive. But I so dislike this I felt I had to write something to put people off wasting their time, or assimilating some of this 'nastiness'.\\n\\nIn the case of Ex Machina I can just imagine Garland wondering what he would do for his next project, googling AI and quickly finding the AI Box Experiment. And rather than do the heart- and soul-searching work that would be necessary to produce anything original I imagine him quickly turning somebody else's idea into his next big proposal to present to the film studio.\\n\\nSo an unoriginal idea, presented in a fairly pedestrian way. Lots of images derived from a young person's view of 'sexuality', made me also wonder if this film is rather prejudiced against women?\\n\\nIt is reasonably paced but I found myself yawning a lot - not quite what I would expect from a good thriller.\\n\\nDomhnall Gleeson is OK, does a pretty good job.</td>\n",
       "      <td>3</td>\n",
       "      <td>negative</td>\n",
       "    </tr>\n",
       "    <tr>\n",
       "      <th>3</th>\n",
       "      <td>3</td>\n",
       "      <td>Ex Machina</td>\n",
       "      <td>Had Great Potential.\\nThis movie is one of the countless that have come out of Hollywood that had great potential.\\n\\nHowever, like so many personalities in Hollywood, it sold it's soul for a cheap finish.\\n\\nThere were some beautiful ideas in this movie, and it could of been great.\\n\\nHowever, the producers chose to go for the cheap thriller effect, instead of exploring what truly makes us human or machine. Conceived, written, and produced by idiots with now soul.\\n\\nDon't waste your time.\\n\\nThe only redeeming part of this movie was when the dweeb gets sent to the sticks, and is surprised when his smartphone tell him that there was no signal. The producers and writers of this piece of crap obviously had no signal also.</td>\n",
       "      <td>1</td>\n",
       "      <td>negative</td>\n",
       "    </tr>\n",
       "    <tr>\n",
       "      <th>4</th>\n",
       "      <td>4</td>\n",
       "      <td>Eternals</td>\n",
       "      <td>Amazing visuals and philosophical concepts!\\n\\nNot only is the Eternals a visual masterpiece, the inner challenges each of the eternals face is a great signifier of the MCU moving into a more mature, meaningful phase.\\n\\nWhen you look deeper into the plot and each events significance, and appreciate the detail put into a timeline that spans thousands of years, the low underwhelming ratings seem obviously out of place. And despite the fact that many people loved the MCU as a couple of buff guys and over-sexualised women, the transition the MCU is going through is inevitable, as a franchise that has supported generations, and quite frankly awesome.\\n\\nBesides from the stunning visuals and deep undertones Chloe Zhao certainly packs in enough fight scenes as possibly needed. Each eternal represents a unique power, connected through their source of cosmic energy. This variability allows for exhilarating fight scenes that are arguably more interesting than a couple of punches, kicks and the stray flying weapon. The love stories are quaint and meaningful, and certainly don't take up too much of the run time.\\n\\nOverall, the new age of maturity and deeper concepts seen in this movie is most definitely something to look forward to in Phase 4!</td>\n",
       "      <td>10</td>\n",
       "      <td>positive</td>\n",
       "    </tr>\n",
       "    <tr>\n",
       "      <th>5</th>\n",
       "      <td>5</td>\n",
       "      <td>Eternals</td>\n",
       "      <td>Worst MCU film ever\\n\\nFollowing the events of Avengers: Endgame (2019), an unexpected tragedy forces the Eternals, ancient aliens who have been living on Earth in secret for thousands of years, out of the shadows to reunite against mankind's most ancient enemy, the Deviants.\\n\\nThis film is by far the worst MCU film I have watch. It's massive insuylt to the comics from the Jack Kirby days. Gender swapping some of the eternals, bad story telling which makes absolutely no sense, unlikeable characters, little to no action and ridicules changes to the MCU just sum up how bad this film. Completely ruined Endgame\\n\\nThe only goods were the music and the CGI for Arishen as well as bonus points for being voiced by David Kaye.\\n\\nOther then that it's just not a good movie makes both Captain Marvel and Iron Man 3 look good.</td>\n",
       "      <td>3</td>\n",
       "      <td>negative</td>\n",
       "    </tr>\n",
       "  </tbody>\n",
       "</table>\n",
       "</div>"
      ]
     },
     "execution_count": 168,
     "metadata": {},
     "output_type": "execute_result"
    }
   ],
   "execution_count": 168
  },
  {
   "metadata": {},
   "cell_type": "code",
   "outputs": [],
   "execution_count": null,
   "source": "",
   "id": "319f08afcdb835ee"
  }
 ],
 "metadata": {
  "kernelspec": {
   "display_name": "Python 3",
   "language": "python",
   "name": "python3"
  },
  "language_info": {
   "codemirror_mode": {
    "name": "ipython",
    "version": 2
   },
   "file_extension": ".py",
   "mimetype": "text/x-python",
   "name": "python",
   "nbconvert_exporter": "python",
   "pygments_lexer": "ipython2",
   "version": "2.7.6"
  }
 },
 "nbformat": 4,
 "nbformat_minor": 5
}
